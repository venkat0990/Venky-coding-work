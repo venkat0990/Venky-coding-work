{
 "cells": [
  {
   "cell_type": "markdown",
   "metadata": {},
   "source": [
    "\n",
    "\"\"\"Author is Bharath Thippireddy\"\"\"\n",
    "\n",
    "print('Python is easy!!')"
   ]
  },
  {
   "cell_type": "code",
   "execution_count": 5,
   "metadata": {},
   "outputs": [
    {
     "name": "stdout",
     "output_type": "stream",
     "text": [
      "Enter min number1\n",
      "Enter max number10\n",
      "1\n",
      "3\n",
      "5\n",
      "7\n",
      "9\n"
     ]
    }
   ],
   "source": [
    "x = int(input(\"Enter min number\"))\n",
    "y = int(input(\"Enter max number\"))\n",
    "i=x\n",
    "if i % 2 == 0: \n",
    "    i = x+1\n",
    "while i<=y:\n",
    "    print(i)\n",
    "    i+=2\n",
    "\n",
    "    "
   ]
  },
  {
   "cell_type": "code",
   "execution_count": 6,
   "metadata": {},
   "outputs": [
    {
     "name": "stdout",
     "output_type": "stream",
     "text": [
      "<class 'complex'>\n"
     ]
    }
   ],
   "source": [
    "d = 3+5j\n",
    "print(type(d))"
   ]
  },
  {
   "cell_type": "code",
   "execution_count": 8,
   "metadata": {},
   "outputs": [
    {
     "data": {
      "text/plain": [
       "33"
      ]
     },
     "execution_count": 8,
     "metadata": {},
     "output_type": "execute_result"
    }
   ],
   "source": [
    "x = 33.566\n",
    "h = int(x)\n",
    "h"
   ]
  },
  {
   "cell_type": "code",
   "execution_count": 10,
   "metadata": {},
   "outputs": [
    {
     "data": {
      "text/plain": [
       "22.5"
      ]
     },
     "execution_count": 10,
     "metadata": {},
     "output_type": "execute_result"
    }
   ],
   "source": [
    "i = float(\"22.5\")\n",
    "i"
   ]
  },
  {
   "cell_type": "code",
   "execution_count": 11,
   "metadata": {},
   "outputs": [
    {
     "name": "stdout",
     "output_type": "stream",
     "text": [
      "0b1010\n"
     ]
    }
   ],
   "source": [
    "print(bin(10))"
   ]
  },
  {
   "cell_type": "code",
   "execution_count": 12,
   "metadata": {},
   "outputs": [
    {
     "name": "stdout",
     "output_type": "stream",
     "text": [
      "0xa\n"
     ]
    }
   ],
   "source": [
    "print(hex(10))"
   ]
  },
  {
   "cell_type": "code",
   "execution_count": 23,
   "metadata": {},
   "outputs": [
    {
     "name": "stdout",
     "output_type": "stream",
     "text": [
      "Yua\n"
     ]
    }
   ],
   "source": [
    "s = \"You are awesome\"\n",
    "print(s[0:5:2])"
   ]
  },
  {
   "cell_type": "code",
   "execution_count": 16,
   "metadata": {},
   "outputs": [
    {
     "name": "stdout",
     "output_type": "stream",
     "text": [
      "emosewa era uoY\n"
     ]
    }
   ],
   "source": [
    "print(s[15::-1])"
   ]
  },
  {
   "cell_type": "code",
   "execution_count": 17,
   "metadata": {},
   "outputs": [
    {
     "name": "stdout",
     "output_type": "stream",
     "text": [
      "emosewa era uoY\n"
     ]
    }
   ],
   "source": [
    "print(s[::-1])"
   ]
  },
  {
   "cell_type": "code",
   "execution_count": 21,
   "metadata": {},
   "outputs": [
    {
     "name": "stdout",
     "output_type": "stream",
     "text": [
      "  You are awesome\n"
     ]
    }
   ],
   "source": [
    "print(s.rstrip())"
   ]
  },
  {
   "cell_type": "code",
   "execution_count": 25,
   "metadata": {},
   "outputs": [
    {
     "name": "stdout",
     "output_type": "stream",
     "text": [
      "8 0 15\n"
     ]
    }
   ],
   "source": [
    "print(s.find(\"awe\"),0,len(s))"
   ]
  },
  {
   "cell_type": "code",
   "execution_count": 26,
   "metadata": {},
   "outputs": [
    {
     "name": "stdout",
     "output_type": "stream",
     "text": [
      "2\n"
     ]
    }
   ],
   "source": [
    "print(s.count(\"a\"))"
   ]
  },
  {
   "cell_type": "code",
   "execution_count": 27,
   "metadata": {},
   "outputs": [
    {
     "name": "stdout",
     "output_type": "stream",
     "text": [
      "You are fantastic\n"
     ]
    }
   ],
   "source": [
    "print(s.replace(\"awesome\",\"fantastic\"))"
   ]
  },
  {
   "cell_type": "code",
   "execution_count": 28,
   "metadata": {},
   "outputs": [
    {
     "name": "stdout",
     "output_type": "stream",
     "text": [
      "YOU ARE AWESOME\n",
      "you are awesome\n",
      "You Are Awesome\n"
     ]
    }
   ],
   "source": [
    "print(s.upper())\n",
    "print(s.lower())\n",
    "print(s.title())\n"
   ]
  },
  {
   "cell_type": "code",
   "execution_count": 66,
   "metadata": {},
   "outputs": [
    {
     "name": "stdout",
     "output_type": "stream",
     "text": [
      "<class 'list'>\n"
     ]
    }
   ],
   "source": [
    "lst = [10,20,40,15,30]\n",
    "print(type(lst))\n"
   ]
  },
  {
   "cell_type": "code",
   "execution_count": 35,
   "metadata": {},
   "outputs": [
    {
     "data": {
      "text/plain": [
       "[10, 20, -10, 30.5, 40, 40, 40]"
      ]
     },
     "execution_count": 35,
     "metadata": {},
     "output_type": "execute_result"
    }
   ],
   "source": [
    "lst"
   ]
  },
  {
   "cell_type": "code",
   "execution_count": 36,
   "metadata": {},
   "outputs": [],
   "source": [
    "del(lst[5:7])"
   ]
  },
  {
   "cell_type": "code",
   "execution_count": 38,
   "metadata": {},
   "outputs": [],
   "source": [
    "lst.clear()"
   ]
  },
  {
   "cell_type": "code",
   "execution_count": 47,
   "metadata": {},
   "outputs": [],
   "source": [
    "lst.insert(3,99)"
   ]
  },
  {
   "cell_type": "code",
   "execution_count": 52,
   "metadata": {},
   "outputs": [
    {
     "data": {
      "text/plain": [
       "[99, 40, 30.5, 20, 10, -10]"
      ]
     },
     "execution_count": 52,
     "metadata": {},
     "output_type": "execute_result"
    }
   ],
   "source": [
    "lst.sort(reverse=True)\n",
    "lst"
   ]
  },
  {
   "cell_type": "code",
   "execution_count": 54,
   "metadata": {},
   "outputs": [
    {
     "name": "stdout",
     "output_type": "stream",
     "text": [
      "3\n"
     ]
    }
   ],
   "source": [
    "tpl = (40,50,40,\"XYZ\")\n",
    "print(tpl.index(\"XYZ\"))"
   ]
  },
  {
   "cell_type": "code",
   "execution_count": 55,
   "metadata": {},
   "outputs": [
    {
     "name": "stdout",
     "output_type": "stream",
     "text": [
      "(99, 40, 30.5, 20, 10, -10)\n"
     ]
    }
   ],
   "source": [
    "print(tuple(lst))"
   ]
  },
  {
   "cell_type": "code",
   "execution_count": 56,
   "metadata": {},
   "outputs": [],
   "source": [
    "s = {10,20,30,\"XYZ\",40,50}\n",
    "s.update([60,70])"
   ]
  },
  {
   "cell_type": "code",
   "execution_count": 57,
   "metadata": {},
   "outputs": [
    {
     "data": {
      "text/plain": [
       "{10, 20, 30, 40, 50, 60, 70, 'XYZ'}"
      ]
     },
     "execution_count": 57,
     "metadata": {},
     "output_type": "execute_result"
    }
   ],
   "source": [
    "s"
   ]
  },
  {
   "cell_type": "code",
   "execution_count": 58,
   "metadata": {},
   "outputs": [],
   "source": [
    "f = frozenset(s)"
   ]
  },
  {
   "cell_type": "code",
   "execution_count": 59,
   "metadata": {},
   "outputs": [
    {
     "data": {
      "text/plain": [
       "frozenset({10, 20, 30, 40, 50, 60, 70, 'XYZ'})"
      ]
     },
     "execution_count": 59,
     "metadata": {},
     "output_type": "execute_result"
    }
   ],
   "source": [
    "f"
   ]
  },
  {
   "cell_type": "code",
   "execution_count": 61,
   "metadata": {},
   "outputs": [
    {
     "data": {
      "text/plain": [
       "range(0, 5)"
      ]
     },
     "execution_count": 61,
     "metadata": {},
     "output_type": "execute_result"
    }
   ],
   "source": [
    "r = range(5)\n",
    "r"
   ]
  },
  {
   "cell_type": "code",
   "execution_count": 62,
   "metadata": {},
   "outputs": [
    {
     "name": "stdout",
     "output_type": "stream",
     "text": [
      "0\n",
      "1\n",
      "2\n",
      "3\n",
      "4\n"
     ]
    }
   ],
   "source": [
    "for i in range(5):\n",
    "    print(i)"
   ]
  },
  {
   "cell_type": "code",
   "execution_count": 68,
   "metadata": {},
   "outputs": [
    {
     "data": {
      "text/plain": [
       "b'\\n\\x14(\\x0f\\x1e'"
      ]
     },
     "execution_count": 68,
     "metadata": {},
     "output_type": "execute_result"
    }
   ],
   "source": [
    "b = bytes(lst)\n",
    "b"
   ]
  },
  {
   "cell_type": "code",
   "execution_count": 69,
   "metadata": {},
   "outputs": [],
   "source": [
    "lst = [20,30,40,234]\n",
    "b1 = bytearray(lst)"
   ]
  },
  {
   "cell_type": "code",
   "execution_count": 71,
   "metadata": {},
   "outputs": [],
   "source": [
    "dict1 = {1:\"john\",2:\"bab\",3:\"bill\"}"
   ]
  },
  {
   "cell_type": "code",
   "execution_count": 73,
   "metadata": {},
   "outputs": [
    {
     "name": "stdout",
     "output_type": "stream",
     "text": [
      "dict_items([(1, 'john'), (2, 'bab'), (3, 'bill')])\n"
     ]
    }
   ],
   "source": [
    "print(dict1.items())"
   ]
  },
  {
   "cell_type": "code",
   "execution_count": 74,
   "metadata": {},
   "outputs": [
    {
     "name": "stdout",
     "output_type": "stream",
     "text": [
      "dict_keys([1, 2, 3])\n"
     ]
    }
   ],
   "source": [
    "print(dict1.keys())"
   ]
  },
  {
   "cell_type": "code",
   "execution_count": 75,
   "metadata": {},
   "outputs": [
    {
     "name": "stdout",
     "output_type": "stream",
     "text": [
      "john\n",
      "bab\n",
      "bill\n"
     ]
    }
   ],
   "source": [
    "v = dict1.values()\n",
    "for i in v: print(i)"
   ]
  },
  {
   "cell_type": "code",
   "execution_count": 76,
   "metadata": {},
   "outputs": [],
   "source": [
    "del dict1[2]"
   ]
  },
  {
   "cell_type": "code",
   "execution_count": 77,
   "metadata": {},
   "outputs": [
    {
     "data": {
      "text/plain": [
       "{1: 'john', 3: 'bill'}"
      ]
     },
     "execution_count": 77,
     "metadata": {},
     "output_type": "execute_result"
    }
   ],
   "source": [
    "dict1"
   ]
  },
  {
   "cell_type": "code",
   "execution_count": 1,
   "metadata": {},
   "outputs": [
    {
     "name": "stdout",
     "output_type": "stream",
     "text": [
      "All the power \n",
      " is within you\n"
     ]
    }
   ],
   "source": [
    "print(\"All the power \\n is within you\")"
   ]
  },
  {
   "cell_type": "code",
   "execution_count": 2,
   "metadata": {},
   "outputs": [
    {
     "name": "stdout",
     "output_type": "stream",
     "text": [
      "Name and marks are: john 94.5\n"
     ]
    }
   ],
   "source": [
    "name = \"john\"\n",
    "marks = 94.5\n",
    "print(\"Name and marks are:\", name, marks)\n"
   ]
  },
  {
   "cell_type": "code",
   "execution_count": 4,
   "metadata": {},
   "outputs": [
    {
     "name": "stdout",
     "output_type": "stream",
     "text": [
      "Name is john,Marks are 94.5\n"
     ]
    }
   ],
   "source": [
    "print(\"Name is {},Marks are {}\".format(name,marks))"
   ]
  },
  {
   "cell_type": "code",
   "execution_count": 6,
   "metadata": {},
   "outputs": [
    {
     "name": "stdout",
     "output_type": "stream",
     "text": [
      "Enter an integer number20\n"
     ]
    }
   ],
   "source": [
    "i = int(input(\"Enter an integer number\"))"
   ]
  },
  {
   "cell_type": "code",
   "execution_count": 9,
   "metadata": {},
   "outputs": [
    {
     "name": "stdout",
     "output_type": "stream",
     "text": [
      "Enter three numbers separated by space:1 2 3\n",
      "['1', '2', '3']\n"
     ]
    }
   ],
   "source": [
    "list = [x for x in input(\"Enter three numbers separated by space:\").split()]\n",
    "print(list)"
   ]
  },
  {
   "cell_type": "code",
   "execution_count": 13,
   "metadata": {},
   "outputs": [
    {
     "name": "stdout",
     "output_type": "stream",
     "text": [
      "Enter the radius5\n",
      "78.53981633974483\n"
     ]
    }
   ],
   "source": [
    "r= float(input(\"Enter the radius\")) \n",
    "area = math.pi*r**2\n",
    "print(area)"
   ]
  },
  {
   "cell_type": "code",
   "execution_count": 12,
   "metadata": {},
   "outputs": [],
   "source": [
    "import math"
   ]
  },
  {
   "cell_type": "code",
   "execution_count": 1,
   "metadata": {},
   "outputs": [
    {
     "name": "stdout",
     "output_type": "stream",
     "text": [
      "Enter a number5\n",
      "x is an odd number\n"
     ]
    }
   ],
   "source": [
    "x = int(input(\"Enter a number\"))\n",
    "if x%2 == 0:\n",
    "    print(\"x is an even number\")\n",
    "else:\n",
    "    print(\"x is an odd number\")"
   ]
  },
  {
   "cell_type": "code",
   "execution_count": 2,
   "metadata": {},
   "outputs": [
    {
     "name": "stdout",
     "output_type": "stream",
     "text": [
      "Enter a number-5\n",
      "-5 not needed\n"
     ]
    }
   ],
   "source": [
    "x = int(input(\"Enter a number\"))\n",
    "if x<=0: print(x,\"not needed\")\n",
    "elif x%2 == 0:\n",
    "    print(\"x is an even number\")\n",
    "else:\n",
    "    print(\"x is an odd number\")"
   ]
  },
  {
   "cell_type": "code",
   "execution_count": 4,
   "metadata": {},
   "outputs": [
    {
     "name": "stdout",
     "output_type": "stream",
     "text": [
      "1\n",
      "2\n",
      "3\n",
      "4\n",
      "5\n",
      "6\n",
      "7\n",
      "8\n",
      "9\n",
      "10\n",
      "11\n",
      "12\n",
      "13\n",
      "14\n",
      "15\n",
      "16\n",
      "17\n",
      "18\n",
      "19\n",
      "20\n"
     ]
    }
   ],
   "source": [
    "x = 0\n",
    "while(x<20):\n",
    "    x+=1\n",
    "    print(x)"
   ]
  },
  {
   "cell_type": "code",
   "execution_count": 14,
   "metadata": {},
   "outputs": [
    {
     "name": "stdout",
     "output_type": "stream",
     "text": [
      "Enter min number1\n",
      "Enter max number10\n",
      "1\n",
      "3\n",
      "5\n",
      "7\n",
      "9\n"
     ]
    }
   ],
   "source": [
    "x = int(input(\"Enter min number\"))\n",
    "y = int(input(\"Enter max number\"))\n",
    "i = x\n",
    "while i <= y:\n",
    "    if i%2 == 0:\n",
    "        i+=1\n",
    "    else:\n",
    "        print(i)\n",
    "        i+=2\n"
   ]
  },
  {
   "cell_type": "code",
   "execution_count": 18,
   "metadata": {},
   "outputs": [
    {
     "name": "stdout",
     "output_type": "stream",
     "text": [
      "50\n",
      "54\n",
      "58\n",
      "62\n",
      "66\n",
      "70\n"
     ]
    }
   ],
   "source": [
    "for i in range(50,71,4):\n",
    "    print(i)"
   ]
  },
  {
   "cell_type": "code",
   "execution_count": 1,
   "metadata": {},
   "outputs": [
    {
     "name": "stdout",
     "output_type": "stream",
     "text": [
      "120\n"
     ]
    }
   ],
   "source": [
    "lst = [1,2,3,4,5]\n",
    "prod = 1\n",
    "for i in lst:\n",
    "    prod*=i\n",
    "print(prod)\n"
   ]
  },
  {
   "cell_type": "code",
   "execution_count": 5,
   "metadata": {},
   "outputs": [
    {
     "name": "stdout",
     "output_type": "stream",
     "text": [
      "Enter a number for generating a table9\n",
      "9 X 1 = 9\n",
      "9 X 2 = 18\n",
      "9 X 3 = 27\n",
      "9 X 4 = 36\n",
      "9 X 5 = 45\n",
      "9 X 6 = 54\n",
      "9 X 7 = 63\n",
      "9 X 8 = 72\n",
      "9 X 9 = 81\n"
     ]
    }
   ],
   "source": [
    "'''Multiplication table'''\n",
    "x = int(input(\"Enter a number for generating a table\"))\n",
    "for i in range(1,x+1):\n",
    "    print(x,'X',i,'=',i*x)\n"
   ]
  },
  {
   "cell_type": "code",
   "execution_count": 12,
   "metadata": {},
   "outputs": [
    {
     "name": "stdout",
     "output_type": "stream",
     "text": [
      "2\n",
      "3\n",
      "4\n"
     ]
    }
   ],
   "source": [
    "lst = [2,3,4,5,6]\n",
    "for i in lst:\n",
    "    if(i==5):\n",
    "        break\n",
    "    print(i)"
   ]
  },
  {
   "cell_type": "code",
   "execution_count": 14,
   "metadata": {},
   "outputs": [
    {
     "name": "stdout",
     "output_type": "stream",
     "text": [
      "1\n",
      "2\n",
      "3\n",
      "4\n",
      "5\n",
      "6\n",
      "7\n",
      "8\n",
      "9\n",
      "10\n",
      "11\n",
      "12\n",
      "13\n",
      "15\n",
      "16\n",
      "17\n",
      "18\n",
      "19\n",
      "20\n"
     ]
    }
   ],
   "source": [
    "x=0\n",
    "while x<20:\n",
    "    x+=1\n",
    "    if (x==14):\n",
    "       continue\n",
    "    print(x)\n"
   ]
  },
  {
   "cell_type": "code",
   "execution_count": 16,
   "metadata": {},
   "outputs": [
    {
     "name": "stdout",
     "output_type": "stream",
     "text": [
      "Enter a number greater than 104\n"
     ]
    },
    {
     "ename": "AssertionError",
     "evalue": "Wrong number entered",
     "output_type": "error",
     "traceback": [
      "\u001b[1;31m---------------------------------------------------------------------------\u001b[0m",
      "\u001b[1;31mAssertionError\u001b[0m                            Traceback (most recent call last)",
      "\u001b[1;32m<ipython-input-16-86d2dc74a06a>\u001b[0m in \u001b[0;36m<module>\u001b[1;34m\u001b[0m\n\u001b[0;32m      1\u001b[0m \u001b[0mx\u001b[0m \u001b[1;33m=\u001b[0m \u001b[0mint\u001b[0m\u001b[1;33m(\u001b[0m\u001b[0minput\u001b[0m\u001b[1;33m(\u001b[0m\u001b[1;34m\"Enter a number greater than 10\"\u001b[0m\u001b[1;33m)\u001b[0m\u001b[1;33m)\u001b[0m\u001b[1;33m\u001b[0m\u001b[1;33m\u001b[0m\u001b[0m\n\u001b[1;32m----> 2\u001b[1;33m \u001b[1;32massert\u001b[0m \u001b[0mx\u001b[0m\u001b[1;33m>\u001b[0m\u001b[1;36m10\u001b[0m\u001b[1;33m,\u001b[0m \u001b[1;34m\"Wrong number entered\"\u001b[0m\u001b[1;33m\u001b[0m\u001b[1;33m\u001b[0m\u001b[0m\n\u001b[0m\u001b[0;32m      3\u001b[0m \u001b[0mprint\u001b[0m\u001b[1;33m(\u001b[0m\u001b[1;34m\"U Entered\"\u001b[0m\u001b[1;33m,\u001b[0m \u001b[0mx\u001b[0m\u001b[1;33m)\u001b[0m\u001b[1;33m\u001b[0m\u001b[1;33m\u001b[0m\u001b[0m\n",
      "\u001b[1;31mAssertionError\u001b[0m: Wrong number entered"
     ]
    }
   ],
   "source": [
    "x = int(input(\"Enter a number greater than 10\"))\n",
    "assert x>10, \"Wrong number entered\"\n",
    "print(\"U Entered\", x)"
   ]
  },
  {
   "cell_type": "code",
   "execution_count": 1,
   "metadata": {},
   "outputs": [
    {
     "name": "stdout",
     "output_type": "stream",
     "text": [
      "C:\\Users\\VenkyTheGreat\\Anaconda3\\lib\\site-packages\\ipykernel_launcher.py\n",
      "-f\n",
      "C:\\Users\\VenkyTheGreat\\AppData\\Roaming\\jupyter\\runtime\\kernel-e2707260-0eb0-40c6-ac76-ffdb057e8ee0.json\n"
     ]
    }
   ],
   "source": [
    "import sys\n",
    "lst = sys.argv\n",
    "for i in lst:print(i)"
   ]
  },
  {
   "cell_type": "code",
   "execution_count": 2,
   "metadata": {},
   "outputs": [
    {
     "name": "stdout",
     "output_type": "stream",
     "text": [
      "3\n"
     ]
    }
   ],
   "source": [
    "print(len(lst))"
   ]
  },
  {
   "cell_type": "code",
   "execution_count": 4,
   "metadata": {},
   "outputs": [
    {
     "name": "stdout",
     "output_type": "stream",
     "text": [
      "C:\\Users\\VenkyTheGreat\\Anaconda3\\lib\\site-packages\\ipykernel_launcher.py\n"
     ]
    }
   ],
   "source": [
    "# python demo.py 123 456 789\n",
    "print(lst[0])"
   ]
  },
  {
   "cell_type": "code",
   "execution_count": 12,
   "metadata": {},
   "outputs": [
    {
     "name": "stdout",
     "output_type": "stream",
     "text": [
      "average of two numbers is 6.0\n"
     ]
    }
   ],
   "source": [
    "# print(\"Product is:\",int(lst[1])*int(lst[2]))\n",
    "def average(a,b):\n",
    "    print(\"average of two numbers is\",(a+b)/2)\n",
    "\n",
    "average(4,8)"
   ]
  },
  {
   "cell_type": "code",
   "execution_count": 13,
   "metadata": {},
   "outputs": [
    {
     "name": "stdout",
     "output_type": "stream",
     "text": [
      "35.0\n"
     ]
    }
   ],
   "source": [
    "def average(a,b):\n",
    "    return (a+b)/2\n",
    "\n",
    "result = average(30,40)\n",
    "print(result)"
   ]
  },
  {
   "cell_type": "code",
   "execution_count": 15,
   "metadata": {},
   "outputs": [
    {
     "data": {
      "text/plain": [
       "(56, -10, 759, 0.696969696969697)"
      ]
     },
     "execution_count": 15,
     "metadata": {},
     "output_type": "execute_result"
    }
   ],
   "source": [
    "def calc(a,b):\n",
    "    x=a+b\n",
    "    y=a-b\n",
    "    z=a*b\n",
    "    u=a/b\n",
    "    return x,y,z,u\n",
    "\n",
    "calc(23,33)"
   ]
  },
  {
   "cell_type": "code",
   "execution_count": 1,
   "metadata": {},
   "outputs": [
    {
     "name": "stdout",
     "output_type": "stream",
     "text": [
      "123\n",
      "678\n"
     ]
    },
    {
     "data": {
      "text/plain": [
       "\"x = 123     # Global\\ndef display():\\n    x=678       #Local\\n    print(x)\\n    print(globals()['x'])\\nprint(x)\\nz = display   # Assign function to a variable\\nz()\""
      ]
     },
     "execution_count": 1,
     "metadata": {},
     "output_type": "execute_result"
    }
   ],
   "source": [
    "x = 123     # Global\n",
    "def display():\n",
    "    y=678       #Local\n",
    "    print(y)\n",
    "print(x)\n",
    "display()\n",
    "\n",
    "'''x = 123     # Global\n",
    "def display():\n",
    "    x=678       #Local\n",
    "    print(x)\n",
    "    print(globals()['x'])\n",
    "print(x)\n",
    "display()'''\n",
    "\n",
    "'''x = 123     # Global\n",
    "def display():\n",
    "    x=678       #Local\n",
    "    print(x)\n",
    "    print(globals()['x'])\n",
    "print(x)\n",
    "z = display   # Assign function to a variable\n",
    "z()'''"
   ]
  },
  {
   "cell_type": "code",
   "execution_count": 28,
   "metadata": {},
   "outputs": [
    {
     "name": "stdout",
     "output_type": "stream",
     "text": [
      "Hello Venky\n"
     ]
    }
   ],
   "source": [
    "# Function inside a function\n",
    "def display(name):\n",
    "    def message():\n",
    "        return \"Hello\"\n",
    "    return message()+name\n",
    "print(display(\" Venky\"))\n",
    "    \n",
    "# Function as a parameter to another\n",
    "'''def display(fun):\n",
    "    return \"Hello \"+fun\n",
    "def name():\n",
    "    return \"Venky\"\n",
    "display(name())'''\n",
    "    "
   ]
  },
  {
   "cell_type": "code",
   "execution_count": 31,
   "metadata": {},
   "outputs": [
    {
     "name": "stdout",
     "output_type": "stream",
     "text": [
      "Hello\n"
     ]
    }
   ],
   "source": [
    "# return functions\n",
    "def display():\n",
    "    def message():\n",
    "        return \"Hello\"\n",
    "    return message\n",
    "fun = display()\n",
    "print(fun())\n",
    "    "
   ]
  },
  {
   "cell_type": "code",
   "execution_count": 32,
   "metadata": {},
   "outputs": [
    {
     "name": "stdout",
     "output_type": "stream",
     "text": [
      "1\n",
      "2\n",
      "3\n",
      "4\n"
     ]
    }
   ],
   "source": [
    "# pass any type\n",
    "def fun(lst):\n",
    "    for i in lst:print(i)\n",
    "fun([1,2,3,4])\n",
    "        "
   ]
  },
  {
   "cell_type": "code",
   "execution_count": 33,
   "metadata": {},
   "outputs": [
    {
     "name": "stdout",
     "output_type": "stream",
     "text": [
      "5040\n"
     ]
    }
   ],
   "source": [
    "# recursion\n",
    "def factorial(n):\n",
    "    if n==0:\n",
    "        return 1\n",
    "    else :\n",
    "        return n*factorial(n-1)\n",
    "print(factorial(7))"
   ]
  },
  {
   "cell_type": "code",
   "execution_count": 39,
   "metadata": {},
   "outputs": [
    {
     "name": "stdout",
     "output_type": "stream",
     "text": [
      "40\n",
      "30\n",
      "35.0\n"
     ]
    }
   ],
   "source": [
    "# keyword arguments\n",
    "def average(a,b):\n",
    "    print(a)\n",
    "    print(b)\n",
    "    return (a+b)/2\n",
    "\n",
    "print (average(b=30,a=40))\n"
   ]
  },
  {
   "cell_type": "code",
   "execution_count": 41,
   "metadata": {},
   "outputs": [
    {
     "name": "stdout",
     "output_type": "stream",
     "text": [
      "30\n",
      "20\n",
      "25.0\n"
     ]
    }
   ],
   "source": [
    "def average(a=10,b=20):\n",
    "    print(a)\n",
    "    print(b)\n",
    "    return (a+b)/2\n",
    "\n",
    "print (average(a=30))   \n"
   ]
  },
  {
   "cell_type": "code",
   "execution_count": 43,
   "metadata": {},
   "outputs": [
    {
     "name": "stdout",
     "output_type": "stream",
     "text": [
      "343\n"
     ]
    }
   ],
   "source": [
    "# lambda argument_list:expression\n",
    "# lambda is anonymous function that will not have any name when we define a function\n",
    "'''def cube(n):return n**3\n",
    "         print(cube(3))'''\n",
    "f = lambda n:n**3\n",
    "print(f(7))"
   ]
  },
  {
   "cell_type": "code",
   "execution_count": 44,
   "metadata": {},
   "outputs": [
    {
     "name": "stdout",
     "output_type": "stream",
     "text": [
      "NO\n"
     ]
    }
   ],
   "source": [
    "f = lambda x:'YES' if x%2==0 else 'NO'\n",
    "print(f(67))"
   ]
  },
  {
   "cell_type": "code",
   "execution_count": 45,
   "metadata": {},
   "outputs": [
    {
     "name": "stdout",
     "output_type": "stream",
     "text": [
      "13\n"
     ]
    }
   ],
   "source": [
    "g = lambda a,b: a+b\n",
    "print(g(6,7))"
   ]
  },
  {
   "cell_type": "code",
   "execution_count": 49,
   "metadata": {},
   "outputs": [
    {
     "name": "stdout",
     "output_type": "stream",
     "text": [
      "[10, 2, 2]\n",
      "10\n",
      "2\n",
      "2\n"
     ]
    }
   ],
   "source": [
    "lst = [10,2,33,45,89,2]\n",
    "result = list(filter(lambda x:x%2==0,lst))  #Need to convert into list to make the numbers reveal\n",
    "print(result)\n",
    "for i in result:print(i)"
   ]
  },
  {
   "cell_type": "code",
   "execution_count": 51,
   "metadata": {},
   "outputs": [
    {
     "name": "stdout",
     "output_type": "stream",
     "text": [
      "[4, 6, 8, 10]\n",
      "4\n",
      "6\n",
      "8\n",
      "10\n"
     ]
    }
   ],
   "source": [
    "lst = [2,3,4,5]\n",
    "result = list(map(lambda n:n*2,lst))\n",
    "print(result)\n",
    "for i in result:print(i)"
   ]
  },
  {
   "cell_type": "code",
   "execution_count": 52,
   "metadata": {},
   "outputs": [
    {
     "name": "stdout",
     "output_type": "stream",
     "text": [
      "50\n"
     ]
    }
   ],
   "source": [
    "from functools import reduce \n",
    "lst = [5,10,15,20]\n",
    "result = reduce(lambda x,y:x+y,lst)\n",
    "print(result)"
   ]
  },
  {
   "cell_type": "code",
   "execution_count": 54,
   "metadata": {},
   "outputs": [
    {
     "name": "stdout",
     "output_type": "stream",
     "text": [
      "10\n"
     ]
    }
   ],
   "source": [
    "#Decorators- Additional logic on the given function\n",
    "def decor(fun):\n",
    "    def inner():\n",
    "        result = fun()\n",
    "        return result*2\n",
    "    return inner\n",
    "\n",
    "def num():\n",
    "    return 5\n",
    "\n",
    "resultfun = decor(num)\n",
    "print(resultfun())"
   ]
  },
  {
   "cell_type": "code",
   "execution_count": 55,
   "metadata": {},
   "outputs": [
    {
     "name": "stdout",
     "output_type": "stream",
     "text": [
      "10\n"
     ]
    }
   ],
   "source": [
    "def decor(fun):\n",
    "    def inner():\n",
    "        result = fun()\n",
    "        return result*2\n",
    "    return inner\n",
    "\n",
    "@decor           # @decor can help to identify the operation is applied here\n",
    "def num():\n",
    "    return 5\n",
    "\n",
    "print(num())"
   ]
  },
  {
   "cell_type": "code",
   "execution_count": 59,
   "metadata": {},
   "outputs": [
    {
     "name": "stdout",
     "output_type": "stream",
     "text": [
      "Hello John,How are you?\n"
     ]
    }
   ],
   "source": [
    "# Decorating strings\n",
    "def decorfun(fun):\n",
    "    def inner(n):\n",
    "        result = fun(n)\n",
    "        result = result + \"How are you?\"\n",
    "        return result\n",
    "    return inner\n",
    "\n",
    "@decorfun\n",
    "def hello(name):\n",
    "    return \"Hello \"+ name\n",
    "print(hello(\"John,\"))      "
   ]
  },
  {
   "cell_type": "code",
   "execution_count": 60,
   "metadata": {},
   "outputs": [
    {
     "name": "stdout",
     "output_type": "stream",
     "text": [
      "20\n",
      "21\n",
      "22\n",
      "23\n",
      "24\n",
      "25\n",
      "26\n",
      "27\n",
      "28\n",
      "29\n"
     ]
    }
   ],
   "source": [
    "#Generators are functions that return a sequence of values back, uses yield statement\n",
    "def customgen(x,y):\n",
    "    while x<y:\n",
    "        yield x\n",
    "        x+=1\n",
    "        \n",
    "result = customgen(20,30)\n",
    "for i in result:print(i)"
   ]
  },
  {
   "cell_type": "code",
   "execution_count": 2,
   "metadata": {},
   "outputs": [
    {
     "data": {
      "text/plain": [
       "'import mymath as ma\\nprint(ma.sum(10,5))          # This is done only after creating def sum, def diff functions in mymath page\\nprint(ma.diff(10,5))\\n\\nor\\n\\nfrom mymath import *\\nprint(sum(10,5))    \\nprint(diff(10,5))'"
      ]
     },
     "execution_count": 2,
     "metadata": {},
     "output_type": "execute_result"
    }
   ],
   "source": [
    "'''import mymath as ma\n",
    "print(ma.sum(10,5))          # This is done only after creating def sum, def diff functions in mymath page\n",
    "print(ma.diff(10,5))\n",
    "\n",
    "or\n",
    "\n",
    "from mymath import *\n",
    "print(sum(10,5))    \n",
    "print(diff(10,5))''' \n"
   ]
  },
  {
   "cell_type": "code",
   "execution_count": 5,
   "metadata": {},
   "outputs": [
    {
     "name": "stdout",
     "output_type": "stream",
     "text": [
      "[1, 8, 27, 64, 125, 216, 343, 512, 729, 1000]\n"
     ]
    }
   ],
   "source": [
    "'''lst = []\n",
    "for x in range(1,11):\n",
    "    lst.append(x**3)\n",
    "print(lst)'''\n",
    "\n",
    "# Using list comprehension\n",
    "lst = []\n",
    "lst = [x**3 for x in range(1,11)]\n",
    "print(lst)"
   ]
  },
  {
   "cell_type": "code",
   "execution_count": 7,
   "metadata": {},
   "outputs": [
    {
     "name": "stdout",
     "output_type": "stream",
     "text": [
      "[2, 4, 6, 8, 10, 12, 14, 16, 18, 20]\n"
     ]
    }
   ],
   "source": [
    "# even numbers in the list\n",
    "# lst = [x for x in range(2,21,2)]\n",
    "# print(lst)\n",
    "lst = [x for x in range(1,21) if x%2==0]\n",
    "print(lst)"
   ]
  },
  {
   "cell_type": "code",
   "execution_count": 11,
   "metadata": {},
   "outputs": [
    {
     "name": "stdout",
     "output_type": "stream",
     "text": [
      "[6, 14, 24, 36, 50]\n"
     ]
    }
   ],
   "source": [
    "a = [1,2,3,4,5]\n",
    "b = [6,7,8,9,10]\n",
    "z = []\n",
    "'''for i in range(len(a)):\n",
    "    z.append(a[i]*b[i])'''\n",
    "z = [a[i]*b[i] for i in range(len(a))]\n",
    "print(z)"
   ]
  },
  {
   "cell_type": "code",
   "execution_count": 13,
   "metadata": {},
   "outputs": [
    {
     "name": "stdout",
     "output_type": "stream",
     "text": [
      "[2, 4]\n"
     ]
    }
   ],
   "source": [
    "# Common elements\n",
    "a = [2,4,6,8]\n",
    "b = [1,2,3,4]\n",
    "result = []\n",
    "'''for i in a:\n",
    "    if i in b:\n",
    "        result.append(i)'''\n",
    "\n",
    "result = [i for i in a if i in b]\n",
    "        \n",
    "print(result)"
   ]
  },
  {
   "cell_type": "code",
   "execution_count": 15,
   "metadata": {},
   "outputs": [
    {
     "name": "stdout",
     "output_type": "stream",
     "text": [
      "IPhone\n",
      "Its Awesome\n",
      "700\n",
      "IPhone\n",
      "Its Awesome\n",
      "700\n"
     ]
    }
   ],
   "source": [
    "# Object Oriented Programming maps real world problems to software solutions- Identity/Name, Properties/Variables, Functionality/Behaviour\n",
    "# Encapsulation,Inheritance, abstraction, and Polymorphism\n",
    "# Classes allow us to create our own data types- user defined, blueprint for objects,where all the fields and methods for a particular object are defined\n",
    "# Using that class we can create any number of objects which will have the same type of variables and methods\n",
    "\n",
    "class Product:\n",
    "    \n",
    "    def __init__(self):# Constructor method to initialize those fields, init takes keyword self. which points to the current object created for particular class\n",
    "        self.name = 'IPhone'    # We can declare and assign values for the class field\n",
    "        self.description = 'Its Awesome'\n",
    "        self.price = 700\n",
    "        \n",
    "p1 = Product()     # Object of this class\n",
    "print(p1.name)\n",
    "print(p1.description)\n",
    "print(p1.price)\n",
    "\n",
    "p2 = Product()     # Object of this class\n",
    "print(p2.name)\n",
    "print(p2.description)\n",
    "print(p2.price)"
   ]
  },
  {
   "cell_type": "code",
   "execution_count": 18,
   "metadata": {},
   "outputs": [
    {
     "name": "stdout",
     "output_type": "stream",
     "text": [
      "Java Course\n",
      "[1, 2, 3, 4, 5]\n",
      "Average Ratings for Java Course  Is  3.0\n",
      "Java Web Services\n",
      "[5, 5, 5, 5]\n",
      "Average Ratings for Java Web Services  Is  5.0\n"
     ]
    }
   ],
   "source": [
    "# Course\n",
    "class Course:\n",
    "    \n",
    "    def __init__(self,name,ratings):  #Passed to the function, parametrized constructor\n",
    "        self.name = name              #Passed to the object\n",
    "        self.ratings = ratings\n",
    "        \n",
    "    def average(self):                # Create instances\n",
    "        numberOfRatings = len(self.ratings)\n",
    "        average = sum(self.ratings)/numberOfRatings\n",
    "        print(\"Average Ratings for\",self.name,\" Is \",average)\n",
    "        \n",
    "c1 = Course(\"Java Course\", [1,2,3,4,5])\n",
    "print(c1.name)\n",
    "print(c1.ratings)\n",
    "c1.average()        # invoking instance\n",
    "\n",
    "c2 = Course(\"Java Web Services\",[5,5,5,5])\n",
    "print(c2.name)\n",
    "print(c2.ratings)\n",
    "c2.average()         # invoking instance"
   ]
  },
  {
   "cell_type": "code",
   "execution_count": 19,
   "metadata": {},
   "outputs": [
    {
     "name": "stdout",
     "output_type": "stream",
     "text": [
      "John\n",
      "10000\n",
      "['Java', 'Hibernate', 'Spring', 'Python']\n"
     ]
    }
   ],
   "source": [
    "class Programmer:    # Getter and Setter\n",
    "    \n",
    "    def setName(self,n):          # Assigning parameter to object variable\n",
    "        self.name = n\n",
    "    \n",
    "    def getName(self):             # No need for assigning parameter\n",
    "        return self.name\n",
    "    \n",
    "    def setSalary(self,sal):\n",
    "        self.salary = sal\n",
    "        \n",
    "    def getSalary(self):\n",
    "        return self.salary\n",
    "    \n",
    "    def setTechnologies(self,techs):\n",
    "        self.technologies = techs\n",
    "        \n",
    "    def getTechnologies(self):\n",
    "        return self.technologies\n",
    "    \n",
    "p1 = Programmer()\n",
    "p1.setName(\"John\")\n",
    "p1.setSalary(10000)\n",
    "p1.setTechnologies([\"Java\",\"Hibernate\",\"Spring\",\"Python\"])\n",
    "\n",
    "print(p1.getName())\n",
    "print(p1.getSalary())\n",
    "print(p1.getTechnologies())"
   ]
  },
  {
   "cell_type": "code",
   "execution_count": 21,
   "metadata": {},
   "outputs": [
    {
     "name": "stdout",
     "output_type": "stream",
     "text": [
      "IPhone\n",
      "700\n",
      "Its Awesome\n",
      "IPhone\n",
      "700\n",
      "Its Awesome\n"
     ]
    }
   ],
   "source": [
    "class Product:                         # instance method\n",
    "    \n",
    "    def __init__(self):\n",
    "        self.name = 'IPhone'   \n",
    "        self.description = 'Its Awesome'\n",
    "        self.price = 700\n",
    "        \n",
    "    def display(self):                  # Always points to the memory location of the object that is invoking that method or calling that method\n",
    "        print(self.name)\n",
    "        print(self.price)\n",
    "        print(self.description)\n",
    "        \n",
    "p1 = Product()     # Object of this class\n",
    "p1.display()\n",
    "\n",
    "\n",
    "p2 = Product()     # Object of this class\n",
    "p2.display()\n"
   ]
  },
  {
   "cell_type": "code",
   "execution_count": 23,
   "metadata": {},
   "outputs": [
    {
     "name": "stdout",
     "output_type": "stream",
     "text": [
      "CSE\n",
      "CSE\n",
      "John\n",
      "Bill\n",
      "CSE\n"
     ]
    }
   ],
   "source": [
    "class Student:\n",
    "    major = \"CSE\"     # Defining static field\n",
    "    \n",
    "    def __init__(self,rollno,name):\n",
    "        self.rollno=rollno                      # instance variables or instance fields\n",
    "        self.name=name\n",
    "        \n",
    "s1 = Student(1,\"John\")                          # Create instances\n",
    "s2 = Student(2,\"Bill\")\n",
    "print(s1.major)\n",
    "print(s2.major)\n",
    "print(s1.name)\n",
    "print(s2.name)\n",
    "print(Student.major)                            # Objects are not needed, call directly through class"
   ]
  },
  {
   "cell_type": "code",
   "execution_count": 24,
   "metadata": {},
   "outputs": [
    {
     "name": "stdout",
     "output_type": "stream",
     "text": [
      "2\n"
     ]
    }
   ],
   "source": [
    "class ObjectCounter:                            # Count instances\n",
    "    \n",
    "    numberOfObjects = 0\n",
    "    def __init__(self):\n",
    "        ObjectCounter.numberOfObjects+=1       \n",
    "        \n",
    "    @staticmethod\n",
    "    def displayCount():\n",
    "        print(ObjectCounter.numberOfObjects)\n",
    "        \n",
    "o1 = ObjectCounter()\n",
    "o2 = ObjectCounter()\n",
    "\n",
    "ObjectCounter.displayCount()\n",
    "        "
   ]
  },
  {
   "cell_type": "code",
   "execution_count": 26,
   "metadata": {},
   "outputs": [
    {
     "name": "stdout",
     "output_type": "stream",
     "text": [
      "Engine Started\n"
     ]
    }
   ],
   "source": [
    "# Create inner class\n",
    "\n",
    "class Car:\n",
    "    def __init__(self,make,year):\n",
    "        self.make= make\n",
    "        self.year = year      # Created outer class\n",
    "        \n",
    "    class Engine:\n",
    "        def __init__(self,number):\n",
    "            self.number=number  # Created inner class as well\n",
    "        def start(self):\n",
    "            print(\"Engine Started\")\n",
    "            \n",
    "c = Car(\"BMW\",2017)\n",
    "e = c.Engine(123)                       # Object of outer class to create object of inner class\n",
    "e.start()                                "
   ]
  },
  {
   "cell_type": "code",
   "execution_count": 7,
   "metadata": {},
   "outputs": [
    {
     "name": "stdout",
     "output_type": "stream",
     "text": [
      "123\n",
      "Jiplesh\n"
     ]
    }
   ],
   "source": [
    "# Encapsulation is about protecting properties and functionality of an object from other objects\n",
    "# Object oriented, capsule=class, data=properties/variables,functionality/methods that can access data, other objects want to access data,always have to go through methods and functionality to access data in the object\n",
    "# Mark field as private and name mangling, access private field through object\n",
    "\n",
    "'''class Student:\n",
    "    def __init__(self):\n",
    "        self.id=123\n",
    "        self.name=\"Jiplesh\"   # This is public, since it can be accessed by creating an object\n",
    "        \n",
    "s = Student()\n",
    "print(s.id)\n",
    "print(s.name)'''\n",
    "\n",
    "# To make it private, put underscores after dots\n",
    "\n",
    "class Student:\n",
    "    def __init__(self):\n",
    "        self.__id=123\n",
    "        self.__name=\"Jiplesh\"   # This is private now using underscores, since it cannot be accessed by creating an object\n",
    "        \n",
    "    def display(self):          # It can be accessed through display function\n",
    "        print(self.__id)\n",
    "        print(self.__name)\n",
    "        \n",
    "        \n",
    "s = Student()\n",
    "# s.display()\n",
    "print(s._Student__id);     \n",
    "print(s._Student__name); # Name mangling, used when stored in private"
   ]
  },
  {
   "cell_type": "code",
   "execution_count": 8,
   "metadata": {},
   "outputs": [
    {
     "name": "stdout",
     "output_type": "stream",
     "text": [
      "123\n",
      "Jiplesh\n"
     ]
    }
   ],
   "source": [
    "# Encapsulation Using setters and getters\n",
    "\n",
    "class Student:\n",
    "    def setId(self,id):\n",
    "        self.id=id\n",
    "        \n",
    "    def getId(self):\n",
    "        return self.id\n",
    "    \n",
    "    def setName(self,name):\n",
    "        self.name=name\n",
    "        \n",
    "    def getName(self):\n",
    "        return self.name\n",
    "        \n",
    "        \n",
    "s = Student()\n",
    "s.setId(123)\n",
    "s.setName(\"Jiplesh\")\n",
    "print(s.getId())\n",
    "print(s.getName())"
   ]
  },
  {
   "cell_type": "code",
   "execution_count": 12,
   "metadata": {},
   "outputs": [
    {
     "name": "stdout",
     "output_type": "stream",
     "text": [
      "True\n",
      "BMW\n",
      "328i\n",
      "2018\n",
      "Button Start\n",
      "Button Stop\n",
      "True\n",
      "True\n",
      "BMW\n",
      "228i\n",
      "2019\n"
     ]
    }
   ],
   "source": [
    "# Inheritance is process of defining a new object with the help of existing bject, IphoneX to IphoneX++,Use existing and update existing functionality\n",
    "\n",
    "from abc import abstractmethod,ABC                           # To make it mandate to follow abstract, inherit from ABC   \n",
    "class BMW(ABC):\n",
    "    def __init__(self,make,model,year):\n",
    "        self.make = make\n",
    "        self.model = model\n",
    "        self.year = year\n",
    "        \n",
    "    @abstractmethod   \n",
    "    def start(self):                                             # Inherit methods from parent class\n",
    "        pass                                                 # Change 'print(\"Starting the car\")' to 'pass' to create interface\n",
    "        \n",
    "    @abstractmethod\n",
    "    def stop(self):\n",
    "        pass                                                 # Change 'print(\"Stopping the car\")' to 'pass' to create interface\n",
    "        \n",
    "    @abstractmethod\n",
    "    def drive(self):                                              # Abstract method\n",
    "        pass\n",
    "        \n",
    "        \n",
    "class ThreeSeries(BMW):\n",
    "    \n",
    "    def __init__(self,cruiseControlEnabled,make,model,year):      # Use from the parent class\n",
    "        super().__init__(make,model,year)                  # BMW and self parameter deletion changed to Super to invoke parent class constructor and parent classes methods from child classes constructor and methods\n",
    "        self.cruiseControlEnabled = cruiseControlEnabled\n",
    "        \n",
    "    def display(self):\n",
    "        print(self.cruiseControlEnabled)\n",
    "        \n",
    "    def start(self):                                              # Overriding, using same exact signature for a method in child class, but providing a different functionality\n",
    "        super().start()\n",
    "        print(\"Button Start\")\n",
    "        \n",
    "    def stop(self):                                              # Overriding, using same exact signature for a method in child class, but providing a different functionality\n",
    "        super().stop()\n",
    "        print(\"Button Stop\")\n",
    "        \n",
    "    def drive(self):                                              # Abstract method\n",
    "        print(\"Three Series is being driven\")\n",
    "        \n",
    "class FiveSeries(BMW):\n",
    "    \n",
    "    def __init__(self,parkingAssistEnabled,make,model,year):      # Use from the parent class\n",
    "        super().__init__(make,model,year)\n",
    "        self.parkingAssistEnabled = parkingAssistEnabled\n",
    "        \n",
    "    def start(self):                                              # Overriding, using same exact signature for a method in child class, but providing a different functionality\n",
    "        super().start()\n",
    "        print(\"Remote Start\")\n",
    "        \n",
    "    def stop(self):                                              # Overriding, using same exact signature for a method in child class, but providing a different functionality\n",
    "        super().stop()\n",
    "        print(\"Remote Stop\")\n",
    "        \n",
    "    def drive(self):                                              # Abstract method\n",
    "        print(\"Five Series is being driven\")\n",
    "                \n",
    "threeSeries = ThreeSeries(True,\"BMW\",\"328i\",\"2018\")              # Method overriding change threeSeries and fiveSeries to bmw, leads to runtime polymorphism\n",
    "print(threeSeries.cruiseControlEnabled)\n",
    "print(threeSeries.make)\n",
    "print(threeSeries.model)\n",
    "print(threeSeries.year)\n",
    "\n",
    "threeSeries.start()\n",
    "threeSeries.stop()\n",
    "threeSeries.display()\n",
    "\n",
    "fiveSeries = FiveSeries(True,\"BMW\",\"228i\",\"2019\")\n",
    "print(fiveSeries.parkingAssistEnabled)\n",
    "print(fiveSeries.make)\n",
    "print(fiveSeries.model)\n",
    "print(fiveSeries.year)\n",
    "\n"
   ]
  },
  {
   "cell_type": "code",
   "execution_count": 1,
   "metadata": {},
   "outputs": [
    {
     "name": "stdout",
     "output_type": "stream",
     "text": [
      "Quack Quack\n",
      "Hello\n"
     ]
    }
   ],
   "source": [
    "# Polymorphism- Different types of behaviour based on the data or the objects that the functions are dealing with, eg Duck typing,Dependency injection, and method overriding\n",
    "class Duck:\n",
    "    def talk(self):\n",
    "        print(\"Quack Quack\")\n",
    "        \n",
    "class Human:\n",
    "    def talk(self):\n",
    "        print(\"Hello\")\n",
    "        \n",
    "def callTalk(obj):\n",
    "    obj.talk();\n",
    "    \n",
    "d = Duck()\n",
    "callTalk(d)\n",
    "\n",
    "h = Human()\n",
    "callTalk(h)\n",
    "    \n",
    "\n"
   ]
  },
  {
   "cell_type": "code",
   "execution_count": 4,
   "metadata": {},
   "outputs": [
    {
     "name": "stdout",
     "output_type": "stream",
     "text": [
      "Starting Airbus engine\n",
      "Starting Boeing engine\n"
     ]
    }
   ],
   "source": [
    "# Duck typing, with dependency injection 'engine'\n",
    "\n",
    "class Flight:\n",
    "    def __init__(self,engine):\n",
    "        self.engine=engine\n",
    "        \n",
    "    def startEngine(self):\n",
    "        self.engine.start();\n",
    "        \n",
    "class AirbusEngine:\n",
    "    def start(self):\n",
    "        print(\"Starting Airbus engine\")\n",
    "        \n",
    "class BoeingEngine:\n",
    "    def start(self):\n",
    "        print(\"Starting Boeing engine\")\n",
    "        \n",
    "ae = AirbusEngine()\n",
    "f = Flight(ae)\n",
    "f.startEngine()\n",
    "      \n",
    "be = BoeingEngine()\n",
    "f1 = Flight(be)\n",
    "f1.startEngine()"
   ]
  },
  {
   "cell_type": "code",
   "execution_count": 5,
   "metadata": {},
   "outputs": [
    {
     "name": "stdout",
     "output_type": "stream",
     "text": [
      "30\n"
     ]
    }
   ],
   "source": [
    "# '+' polymorphism\n",
    "x = 10\n",
    "y = 20\n",
    "print(x+y)\n"
   ]
  },
  {
   "cell_type": "code",
   "execution_count": 3,
   "metadata": {},
   "outputs": [
    {
     "name": "stdout",
     "output_type": "stream",
     "text": [
      "Enter two numbers:4 0\n",
      "Division by zero is not allowed\n",
      "Please enter a non zero number\n",
      "File Closed\n",
      "Code after the exception\n"
     ]
    }
   ],
   "source": [
    "# Abstract classes and interfaces, we can define contract for our child classes, no implementation, marked with @abstract method, use decorator and drive(): method\n",
    "# Exceptions are runtime errors, if something goes wrong in application, exception is raised-Abnormal termination of program,informal/unfriendly information to the end user,improper shitdown of resources\n",
    "# Have to use try & except, then else and then 'finally', Base Exception with Exception-Standard Error(Zero Division & EOF error), Warning\n",
    "# EOF- End of file error(if we try to read beyond length of a file or end of file we will get end of file error), divide no by 0 is Zerodivision error,don't follow proper indentation= indentation error\n",
    "# Deprecated warning(Python API no longer available or available in older versions),Import Warning(import but not in use)\n",
    "\n",
    "import logging\n",
    "\n",
    "logging.basicConfig(filename=\"mylog.log\", level=logging.DEBUG)\n",
    "try:\n",
    "    f = open(\"myfile\",\"w\")\n",
    "    a,b = [int(x) for x in input(\"Enter two numbers:\").split()]\n",
    "    logging.info(\"Division in progress\")\n",
    "    c = a/b\n",
    "    f.write(\"Writing %d into file\" %c)                                # writing digit into c\n",
    "except ZeroDivisionError:\n",
    "    print(\"Division by zero is not allowed\")\n",
    "    print(\"Please enter a non zero number\")\n",
    "    logging.error(\"Division by zero\")\n",
    "else:\n",
    "    print(\"You have entered a non zero number\")\n",
    "finally:\n",
    "    f.close()\n",
    "    print(\"File Closed\")\n",
    "print(\"Code after the exception\")\n",
    "# Using 'finally', any cleanup code executed no matter whether an exception is thrown or not, else: no exception raised"
   ]
  },
  {
   "cell_type": "code",
   "execution_count": 2,
   "metadata": {},
   "outputs": [],
   "source": [
    "# Logging in\n",
    "import logging\n",
    "\n",
    "logging.basicConfig(filename=\"mylog.log\", level=logging.DEBUG)\n",
    "logging.critical(\"Critical\")\n",
    "logging.error(\"Error\")\n",
    "logging.warning(\"Warning\")\n",
    "logging.info(\"Info\")\n",
    "logging.debug(\"Debug\")\n"
   ]
  },
  {
   "cell_type": "code",
   "execution_count": 8,
   "metadata": {},
   "outputs": [
    {
     "name": "stdout",
     "output_type": "stream",
     "text": [
      "Enter a even number:7\n",
      "You have entered an invalid input or odd number\n",
      "After the assertion\n"
     ]
    }
   ],
   "source": [
    "try:\n",
    "    num = int(input(\"Enter a even number:\"))\n",
    "    assert num%2==0,\"You have entered an invalid input or odd number\"\n",
    "except AssertionError as obj:\n",
    "    print(obj)\n",
    "print(\"After the assertion\")   \n"
   ]
  },
  {
   "cell_type": "code",
   "execution_count": 12,
   "metadata": {},
   "outputs": [
    {
     "data": {
      "text/plain": [
       "'f = open(\"file.txt\",\"w\")\\nprint(\"Enter Text(Type # when you are done)\")\\ns = \\'\\'\\nwhile s != \\'#\\':\\n    s = input()\\n    f.write(s + \\'\\n\\')\\n    \\nf.close'"
      ]
     },
     "execution_count": 12,
     "metadata": {},
     "output_type": "execute_result"
    }
   ],
   "source": [
    "'''f = open(\"file.txt\",\"w\")\n",
    "print(\"Enter Text(Type # when you are done)\")\n",
    "s = ''\n",
    "while s != '#':\n",
    "    s = input()\n",
    "    f.write(s + '\\n')\n",
    "    \n",
    "f.close'''"
   ]
  },
  {
   "cell_type": "code",
   "execution_count": 3,
   "metadata": {},
   "outputs": [
    {
     "name": "stdout",
     "output_type": "stream",
     "text": [
      "File Does not Exist\n"
     ]
    },
    {
     "ename": "SystemExit",
     "evalue": "",
     "output_type": "error",
     "traceback": [
      "An exception has occurred, use %tb to see the full traceback.\n",
      "\u001b[1;31mSystemExit\u001b[0m\n"
     ]
    }
   ],
   "source": [
    "import os,sys\n",
    "if os.path.isfile('myfile.txt'):\n",
    "    f = open(\"myfile.txt\",\"r\")\n",
    "    s = f.read()\n",
    "    print(s)\n",
    "    f.close()\n",
    "else:\n",
    "    print(\"File Does not Exist\")\n",
    "    sys.exit()"
   ]
  },
  {
   "cell_type": "code",
   "execution_count": 10,
   "metadata": {},
   "outputs": [],
   "source": [
    "f = open(\"file.txt\",\"w\")\n",
    "s = 'Tell me the problem'\n",
    "f.write(s)\n",
    "f.close()"
   ]
  },
  {
   "cell_type": "code",
   "execution_count": 8,
   "metadata": {},
   "outputs": [],
   "source": [
    "# pickle- serialize object into a file\n",
    "\n",
    "class Student:\n",
    "    def __init__(self,id,name,testscore):\n",
    "            self.id = id\n",
    "            self.name=name\n",
    "            self.testscore=testscore\n",
    "            \n",
    "    def display(self):\n",
    "        print(self.id,self.name,self.testscore)\n",
    "            \n",
    "import pickle\n",
    "f = open(\"student.dat\",\"wb\")\n",
    "s = Student(123,\"John\",90)\n",
    "pickle.dump(s,f)\n",
    "f.close()"
   ]
  },
  {
   "cell_type": "code",
   "execution_count": 10,
   "metadata": {},
   "outputs": [
    {
     "name": "stdout",
     "output_type": "stream",
     "text": [
      "123 John 90\n"
     ]
    }
   ],
   "source": [
    "import pickle\n",
    "\n",
    "f = open(\"student.dat\",\"rb\")\n",
    "obj = pickle.load(f)\n",
    "obj.display()\n",
    "f.close()"
   ]
  },
  {
   "cell_type": "code",
   "execution_count": 5,
   "metadata": {},
   "outputs": [
    {
     "name": "stdout",
     "output_type": "stream",
     "text": [
      "one\n"
     ]
    }
   ],
   "source": [
    "# Regex(Regular expressions)- Characters/pattern that will create to search for a string within a given string or validate given string to see if it follows given pattern\n",
    "# Special characters, Sequence characters- to match a single character in a given string\n",
    "# findall method takes a regular expression and it searches the given string for that pattern right from the beginning all the way to the end, return all substrings that match the given expression as a list so the list will contain every substring in the given string that matches the given regular expression\n",
    "# Match method takes the regular expression, searches for pattern in the given string right at the beginning of the string\n",
    "import re\n",
    "str = \"Take up one idea. One idea at a time\"\n",
    "result = re.search(r'o\\w\\w',str)                     # first letter o and \\w\\w implies any 2 alphanumeric characters, All substrings which start with O,having total of 3 characters, or which starts with O, followed by any 2 characters\n",
    "print(result.group())                                   # exact string that matches the given pattern\n"
   ]
  },
  {
   "cell_type": "code",
   "execution_count": 12,
   "metadata": {},
   "outputs": [
    {
     "name": "stdout",
     "output_type": "stream",
     "text": [
      "None\n",
      "[]\n",
      "Tak\n"
     ]
    }
   ],
   "source": [
    "str = \"Take up One idea. One idea at a time\"\n",
    "result = re.search(r'o\\w',str)                     \n",
    "print(result) \n",
    "result = re.findall(r'o\\w\\w',str)                     \n",
    "print(result)\n",
    "result = re.match(r'T\\w\\w',str)                     \n",
    "print(result.group())"
   ]
  },
  {
   "cell_type": "code",
   "execution_count": 25,
   "metadata": {},
   "outputs": [
    {
     "name": "stdout",
     "output_type": "stream",
     "text": [
      "None\n",
      "[]\n",
      "Tak\n",
      "['Take ', ' up ', '-', '-', ' One ', ' idea. One idea ', ' at a time ', '-', '-', '']\n",
      "Take 1 up 1-3-2019 Two 23 idea. Two idea 45 at a time 12-11-2020\n",
      "['One', 'One']\n",
      "['1-3-2019', '12-11-2020']\n",
      "Take\n"
     ]
    }
   ],
   "source": [
    "str = \"Take 1 up 1-3-2019 One 23 idea. One idea 45 at a time 12-11-2020\"\n",
    "result = re.search(r'o\\w',str)                     \n",
    "print(result) \n",
    "result = re.findall(r'o\\w\\w',str)                     \n",
    "print(result)\n",
    "result = re.match(r'T\\w\\w',str)                     \n",
    "print(result.group())\n",
    "result = re.split(r'\\d+',str)                             # Split it wherever there is a digit, any number of digits\n",
    "print(result)\n",
    "# sub searches string for a given sub-string which we give in a regular expression format, replace that string with the string we give\n",
    "result = re.sub(r'One','Two',str)                     \n",
    "print(result)\n",
    "result = re.findall(r'O\\w{1,2}',str)                          # '+' implies One or more alphanumeric characters after O, '*' implies 0 or more alphanumeric characters, '?' implies 0 or 1 representations of preceding expression, '{}' exact number of occurence of preceding regular expression\n",
    "print(result)\n",
    "result = re.findall(r'\\d{1,2}-\\d{1,2}-\\d{4}',str)                     \n",
    "print(result)\n",
    "result = re.search(r'^T\\w*',str)                             # ^ symbol- beginning of string                \n",
    "print(result.group())"
   ]
  },
  {
   "cell_type": "code",
   "execution_count": 31,
   "metadata": {},
   "outputs": [
    {
     "name": "stdout",
     "output_type": "stream",
     "text": [
      "1583907056.0946944\n",
      "Wed Mar 11 01:10:56 2020\n",
      "Current Date:11-3-2020\n",
      "Current Time:1:10:56\n"
     ]
    }
   ],
   "source": [
    "# Date and Time\n",
    "import time, datetime\n",
    "epochseconds = time.time()\n",
    "print(epochseconds)\n",
    "t = time.ctime(epochseconds)               # Gives the today's date and exact time\n",
    "print(t)\n",
    "\n",
    "dt = datetime.datetime.today()\n",
    "print('Current Date:{}-{}-{}'.format(dt.day,dt.month,dt.year))\n",
    "print('Current Time:{}:{}:{}'.format(dt.hour,dt.minute,dt.second))"
   ]
  },
  {
   "cell_type": "code",
   "execution_count": 38,
   "metadata": {},
   "outputs": [
    {
     "name": "stdout",
     "output_type": "stream",
     "text": [
      "2020-03-11 01:15:00\n"
     ]
    }
   ],
   "source": [
    "# combining date and time\n",
    "from datetime import date\n",
    "d = date(2020,3,11)\n",
    "t = time(1,15)\n",
    "dt = datetime.combine(d,t)\n",
    "print(dt)"
   ]
  },
  {
   "cell_type": "code",
   "execution_count": 44,
   "metadata": {},
   "outputs": [
    {
     "name": "stdout",
     "output_type": "stream",
     "text": [
      "2017-08-12\n",
      "2018-08-12\n",
      "2019-08-12\n",
      "2020-08-12\n",
      "Execution Time 0.0015220999994198792\n"
     ]
    }
   ],
   "source": [
    "# sort dates\n",
    "import time\n",
    "\n",
    "startTime = time.perf_counter()\n",
    "\n",
    "ldates = []\n",
    "d1 = date(2020,8,12)\n",
    "d2 = date(2017,8,12)\n",
    "d3 = date(2019,8,12)\n",
    "d4 = date(2018,8,12)\n",
    "\n",
    "ldates.append(d1)\n",
    "ldates.append(d2)\n",
    "ldates.append(d3)\n",
    "ldates.append(d4)\n",
    "\n",
    "ldates.sort()\n",
    "# time.sleep(3)                                             # Provide output after ('') seconds\n",
    "for d in ldates:\n",
    "    print(d)\n",
    "    \n",
    "endTime = time.perf_counter()\n",
    "print(\"Execution Time\", endTime-startTime)"
   ]
  },
  {
   "cell_type": "code",
   "execution_count": 2,
   "metadata": {},
   "outputs": [
    {
     "name": "stdout",
     "output_type": "stream",
     "text": [
      "Current Thread that is running: MainThread\n",
      "Main Thread\n"
     ]
    }
   ],
   "source": [
    "# just main()- Single thread, 3 different approaches- Using a function(function name to thread classes+ start), Extending the thread class(select class+override+invoke),without extending(create class+define functions+create objects of class+pass function name along with object as target to thread instance and then invoke t.start)\n",
    "\n",
    "import threading\n",
    "print(\"Current Thread that is running:\",threading.current_thread().getName())\n",
    "\n",
    "if threading.current_thread() == threading.main_thread():\n",
    "    print(\"Main Thread\")\n",
    "else:\n",
    "    print(\"Some other thread\")"
   ]
  },
  {
   "cell_type": "code",
   "execution_count": 5,
   "metadata": {},
   "outputs": [
    {
     "name": "stdout",
     "output_type": "stream",
     "text": [
      "MainThread\n",
      "Thread-8\n",
      "0\n",
      "1\n",
      "2\n",
      "3\n",
      "4\n",
      "5\n",
      "6\n",
      "7\n",
      "8\n",
      "9\n",
      "10\n"
     ]
    }
   ],
   "source": [
    "# Thread using function\n",
    "from threading import *\n",
    "\n",
    "def displayNumbers():\n",
    "    i = 0\n",
    "    print(current_thread().getName())\n",
    "    while(i<=10):\n",
    "        print(i)\n",
    "        i += 1\n",
    "        \n",
    "print(current_thread().getName())                     # Upto main thread     \n",
    "t = Thread(target=displayNumbers)\n",
    "t.start()                                             # New thread starts"
   ]
  },
  {
   "cell_type": "code",
   "execution_count": null,
   "metadata": {},
   "outputs": [],
   "source": [
    "# Using extended thread\n",
    "\n",
    "class MyThread(Thread):                          # extends thread\n",
    "    def run(self):                               # overriding run method using parent class \n",
    "        i = 0\n",
    "        print(current_thread().getName())\n",
    "        while(i<=10):\n",
    "            print(i)\n",
    "            i += 1\n",
    "            \n",
    "t = MyThread()                                   # create instance of our own thread, by creating object of our class\n",
    "t.start()                                        # Will spawn off a new thread and invoke the run method that we have overridden\n",
    "        \n"
   ]
  },
  {
   "cell_type": "code",
   "execution_count": 2,
   "metadata": {},
   "outputs": [
    {
     "name": "stdout",
     "output_type": "stream",
     "text": [
      "Thread-6\n",
      "0\n",
      "1\n",
      "2\n",
      "3\n",
      "4\n",
      "5\n",
      "6\n",
      "7\n",
      "8\n",
      "9\n",
      "10\n"
     ]
    }
   ],
   "source": [
    "# using class\n",
    "from threading import *\n",
    "class MyThread:\n",
    "    def displayNumbers(self):                                \n",
    "        i = 0\n",
    "        print(current_thread().getName())\n",
    "        while(i<=10):\n",
    "            print(i)\n",
    "            i += 1\n",
    "            \n",
    "obj = MyThread()\n",
    "t = Thread(target=obj.displayNumbers)\n",
    "t.start()\n",
    "            \n"
   ]
  },
  {
   "cell_type": "code",
   "execution_count": 4,
   "metadata": {},
   "outputs": [
    {
     "name": "stdout",
     "output_type": "stream",
     "text": [
      "Thread-10\n",
      "0\n",
      "1\n",
      "2\n",
      "3\n",
      "4\n",
      "5\n",
      "6\n",
      "7\n",
      "8\n",
      "9\n",
      "10\n",
      "Thread-11\n",
      "0\n",
      "1\n",
      "2\n",
      "3\n",
      "4\n",
      "5\n",
      "6\n",
      "7\n",
      "8\n",
      "9\n",
      "10\n",
      "Thread-12\n",
      "0\n",
      "1\n",
      "2\n",
      "3\n",
      "4\n",
      "5\n",
      "6\n",
      "7\n",
      "8\n",
      "9\n",
      "10\n"
     ]
    }
   ],
   "source": [
    "# Multithreading in action\n",
    "\n",
    "from threading import *\n",
    "class MyThread:\n",
    "    def displayNumbers(self):                                \n",
    "        i = 0\n",
    "        print(current_thread().getName())\n",
    "        # sleep(1)\n",
    "        while(i<=10):\n",
    "            print(i)\n",
    "            i += 1\n",
    "            \n",
    "obj = MyThread()\n",
    "\n",
    "t = Thread(target=obj.displayNumbers)\n",
    "t.start()\n",
    "\n",
    "t2 = Thread(target=obj.displayNumbers)\n",
    "t2.start()\n",
    "\n",
    "t3 = Thread(target=obj.displayNumbers)\n",
    "t3.start()"
   ]
  },
  {
   "cell_type": "code",
   "execution_count": 9,
   "metadata": {},
   "outputs": [
    {
     "name": "stdout",
     "output_type": "stream",
     "text": [
      "Confirming a seat\n",
      "Processing the payment\n",
      "Printing the Ticket\n",
      "Confirming a seat\n",
      "Processing the payment\n",
      "Printing the Ticket\n",
      "Confirming a seat\n",
      "Processing the payment\n",
      "Printing the Ticket\n"
     ]
    }
   ],
   "source": [
    "# book my bus\n",
    "from threading import *\n",
    "\n",
    "class BookMyBus:\n",
    "    def buy(self):                                \n",
    "        print(\"Confirming a seat\")\n",
    "        print(\"Processing the payment\")\n",
    "        print(\"Printing the Ticket\")\n",
    "        \n",
    "obj=BookMyBus()\n",
    "t1 = Thread(target=obj.buy())\n",
    "t2 = Thread(target=obj.buy())\n",
    "t3 = Thread(target=obj.buy())\n",
    "\n",
    "t1.start()\n",
    "t2.start()\n",
    "t3.start()"
   ]
  },
  {
   "cell_type": "code",
   "execution_count": 17,
   "metadata": {},
   "outputs": [
    {
     "name": "stdout",
     "output_type": "stream",
     "text": [
      "Total seats available: 10\n",
      "Confirming a seat\n",
      "Processing the payment\n",
      "Printing the Ticket\n",
      "Total seats available: 7\n",
      "Confirming a seat\n",
      "Processing the payment\n",
      "Printing the Ticket\n",
      "Total seats available: 3\n",
      "Confirming a seat\n",
      "Processing the payment\n",
      "Printing the Ticket\n"
     ]
    }
   ],
   "source": [
    "# Multiple threads, don't corrupt each other's resources/objects = Thread Synchronization(Lock object(Thread mutex) + Semaphore(uses counter))\n",
    "# To avoid overbooking, synchronization is used\n",
    "# book my bus with logic\n",
    "\n",
    "from threading import *\n",
    "\n",
    "class BookMyBus:\n",
    "    def __init__ (self, availableSeats):\n",
    "        self.availableSeats = availableSeats\n",
    "        self.l = Semaphore()                                       # semaphore is also used instead of lock\n",
    "        \n",
    "    def buy(self,seatsRequested):\n",
    "        self.l.acquire()\n",
    "        print(\"Total seats available:\",self.availableSeats)\n",
    "        if(self.availableSeats>=seatsRequested):\n",
    "            print(\"Confirming a seat\")\n",
    "            print(\"Processing the payment\")\n",
    "            print(\"Printing the Ticket\")\n",
    "            self.availableSeats -= seatsRequested\n",
    "        else:\n",
    "            print(\"Sorry.No seats available\")\n",
    "        self.l.release()\n",
    "        \n",
    "obj=BookMyBus(10)                                         # Total no of seats available\n",
    "t1 = Thread(target=obj.buy,args=(3,))                   # 3 on the first reservation, it has to be list type to be iterated\n",
    "t2 = Thread(target=obj.buy,args=(4,))                   # 4 on second reservation\n",
    "t3 = Thread(target=obj.buy,args=(3,))                   # 3 on third reservation\n",
    "\n",
    "t1.start()\n",
    "t2.start()\n",
    "t3.start()\n"
   ]
  },
  {
   "cell_type": "code",
   "execution_count": 20,
   "metadata": {},
   "outputs": [
    {
     "name": "stdout",
     "output_type": "stream",
     "text": [
      "Waiting for the orders\n",
      "Waiting for the orders\n",
      "Waiting for the orders\n",
      "Waiting for the orders\n",
      "Waiting for the orders\n",
      "Item Added\n",
      "Waiting for the orders\n",
      "Waiting for the orders\n",
      "Waiting for the orders\n",
      "Waiting for the orders\n",
      "Waiting for the orders\n",
      "Item Added\n",
      "Waiting for the orders\n",
      "Waiting for the orders\n",
      "Waiting for the orders\n",
      "Waiting for the orders\n",
      "Waiting for the orders\n",
      "Item Added\n",
      "Waiting for the orders\n",
      "Waiting for the orders\n",
      "Waiting for the orders\n",
      "Waiting for the orders\n",
      "Waiting for the orders\n",
      "Item Added\n",
      "Orders Shipped ['Product1', 'Product2', 'Product3', 'Product4']\n"
     ]
    }
   ],
   "source": [
    "# Threads need to communicate with each other- Producer and Consumer pattern, first receives order other consumes the order and shipping\n",
    "\n",
    "from threading import *;\n",
    "from time import *;\n",
    "\n",
    "class Producer:\n",
    "    def __init__(self):\n",
    "        self.products = []\n",
    "        self.ordersplaced = False                                    # Flag used to communicate\n",
    "        \n",
    "    def produce(self):\n",
    "        for i in range(1,5):\n",
    "            self.products.append(\"Product\"+str(i))                   # Use string function of i\n",
    "            sleep(1)\n",
    "            print(\"Item Added\")                                      # once products are added, we are flipping function to true\n",
    "        self.ordersplaced = True\n",
    "        \n",
    "class Consumer:\n",
    "    def __init__(self,prod):\n",
    "        self.prod = prod\n",
    "        \n",
    "    def consume(self):\n",
    "        while self.prod.ordersplaced == False:\n",
    "            print(\"Waiting for the orders\")\n",
    "            sleep(0.2)\n",
    "            \n",
    "        print(\"Orders Shipped\", self.prod.products)                   # Whenever orders are true,shipped\n",
    "        \n",
    "p = Producer()\n",
    "c = Consumer(p)\n",
    "\n",
    "t1 = Thread(target= p.produce)\n",
    "t2 = Thread(target= c.consume)\n",
    "\n",
    "t1.start()\n",
    "t2.start()\n",
    "\n",
    "        \n",
    "        \n",
    "        \n",
    "        \n",
    "        \n",
    "        \n",
    "        \n",
    "        \n",
    "        "
   ]
  },
  {
   "cell_type": "code",
   "execution_count": 21,
   "metadata": {},
   "outputs": [
    {
     "name": "stdout",
     "output_type": "stream",
     "text": [
      "Item Added\n",
      "Item Added\n",
      "Item Added\n",
      "Item Added\n",
      "Orders Shipped ['Product1', 'Product2', 'Product3', 'Product4']\n"
     ]
    }
   ],
   "source": [
    "# We were continuously checking for a flag earlier, but we could access condition in Producer class using wait() function, Producer should use notify() when it's ready\n",
    "# Thread communication using wait and notify\n",
    "\n",
    "from threading import *;\n",
    "from time import *;\n",
    "\n",
    "class Producer:\n",
    "    def __init__(self):\n",
    "        self.products = []\n",
    "        self.c = Condition()                                         # Conditionally between threads communication, need to acquire lock also\n",
    "        \n",
    "    def produce(self):\n",
    "        self.c.acquire()\n",
    "        \n",
    "        for i in range(1,5):\n",
    "            self.products.append(\"Product\"+str(i))                   # Use string function of i\n",
    "            sleep(1)\n",
    "            print(\"Item Added\")                                      # once products are added, we are flipping function to true\n",
    "        self.c.notify()\n",
    "        self.c.release()\n",
    "        \n",
    "class Consumer:\n",
    "    def __init__(self,prod):\n",
    "        self.prod = prod\n",
    "        \n",
    "    def consume(self):\n",
    "        self.prod.c.acquire()\n",
    "        self.prod.c.wait(timeout=0)\n",
    "        self.prod.c.release()    \n",
    "        print(\"Orders Shipped\", self.prod.products)                   # Whenever orders are true,shipped\n",
    "        \n",
    "p = Producer()\n",
    "c = Consumer(p)\n",
    "\n",
    "t1 = Thread(target= p.produce)\n",
    "t2 = Thread(target= c.consume)\n",
    "\n",
    "t1.start()\n",
    "t2.start()"
   ]
  },
  {
   "cell_type": "code",
   "execution_count": 1,
   "metadata": {},
   "outputs": [],
   "source": [
    "# URL, Image, HTML and so on\n",
    "\n",
    "import urllib.request\n",
    "try:\n",
    "    url = urllib.request.urlopen(\"https://www.python.org/\")\n",
    "    content = url.read()\n",
    "    url.close()\n",
    "except urllib.error.HTTPError:\n",
    "    print(\"The webpage is not found\")\n",
    "    exit()\n",
    "    \n",
    "f = open('python.html','wb')\n",
    "f.write(content)\n",
    "f.close()"
   ]
  },
  {
   "cell_type": "code",
   "execution_count": 2,
   "metadata": {},
   "outputs": [
    {
     "data": {
      "text/plain": [
       "('python.png', <http.client.HTTPMessage at 0x2a2e42dd320>)"
      ]
     },
     "execution_count": 2,
     "metadata": {},
     "output_type": "execute_result"
    }
   ],
   "source": [
    "# Download images\n",
    "\n",
    "import urllib.request\n",
    "\n",
    "url = \"https://www.python.org/static/img/python-logo.png\"\n",
    "\n",
    "urllib.request.urlretrieve(url, filename=\"python.png\")"
   ]
  },
  {
   "cell_type": "code",
   "execution_count": 1,
   "metadata": {},
   "outputs": [
    {
     "data": {
      "text/plain": [
       "'import socket\\n\\nhost = \\'localhost\\'\\nport = 4000\\n\\ns = socket.socket(socket.AF_INET, socket.SOCK_STREAM)                                # TCP/IP communication, with constants af, and internet protocol version 4, then TCP IDP\\ns.bind((host,port))\\n\\nprint(\"Server listening on port:\",port)\\ns.listen(1)                                                  # No of connections\\n\\nc,addr = s.accept()                                          # Accept client connection when client tries to connect, address+connection\\n\\nprint(\"Connection from:\",str(addr))\\n\\nc.send(b\"Hello, how are you\")                                # Converting the string to binary\\nc.send(\"bye\".encode())                                       # Telling the client bye, encode also converts it into binary\\n\\nc.close()'"
      ]
     },
     "execution_count": 1,
     "metadata": {},
     "output_type": "execute_result"
    }
   ],
   "source": [
    "# Socket programming- socket+bind+connect+listen+accept, send and receive messages at that point,then close the connection\n",
    "\n",
    "'''import socket\n",
    "\n",
    "host = 'localhost'\n",
    "port = 4000\n",
    "\n",
    "s = socket.socket(socket.AF_INET, socket.SOCK_STREAM)                                # TCP/IP communication, with constants af, and internet protocol version 4, then TCP IDP\n",
    "s.bind((host,port))\n",
    "\n",
    "print(\"Server listening on port:\",port)\n",
    "s.listen(1)                                                  # No of connections\n",
    "\n",
    "c,addr = s.accept()                                          # Accept client connection when client tries to connect, address+connection\n",
    "\n",
    "print(\"Connection from:\",str(addr))\n",
    "\n",
    "c.send(b\"Hello, how are you\")                                # Converting the string to binary\n",
    "c.send(\"bye\".encode())                                       # Telling the client bye, encode also converts it into binary\n",
    "\n",
    "c.close()'''"
   ]
  },
  {
   "cell_type": "code",
   "execution_count": 2,
   "metadata": {},
   "outputs": [
    {
     "data": {
      "text/plain": [
       "'import socket\\n\\ns = socket.socket()                  # Default af_inet and sock_stream\\n\\ns.connect((\"locathost\",4000))          # connect to the host and port\\n\\nmsg = s.recv(1024)                    # no of bytes we receive at a time\\n\\n# we can continue listening as long as there is a message and display\\nwhile msg:\\n    print(\"Received: \",msg.decode())\\n    msg = s.recv(1024)\\n    \\ns.close()'"
      ]
     },
     "execution_count": 2,
     "metadata": {},
     "output_type": "execute_result"
    }
   ],
   "source": [
    "# Create a client for the server 4000\n",
    "\n",
    "'''import socket\n",
    "\n",
    "s = socket.socket()                  # Default af_inet and sock_stream\n",
    "\n",
    "s.connect((\"locathost\",4000))          # connect to the host and port\n",
    "\n",
    "msg = s.recv(1024)                    # no of bytes we receive at a time\n",
    "\n",
    "# we can continue listening as long as there is a message and display\n",
    "while msg:\n",
    "    print(\"Received: \",msg.decode())\n",
    "    msg = s.recv(1024)\n",
    "    \n",
    "s.close()'''\n",
    "\n"
   ]
  },
  {
   "cell_type": "code",
   "execution_count": null,
   "metadata": {},
   "outputs": [
    {
     "name": "stdout",
     "output_type": "stream",
     "text": [
      "Server listening on port: 6767\n"
     ]
    }
   ],
   "source": [
    "#File Server\n",
    "\n",
    "'''import socket\n",
    "\n",
    "host = 'localhost'\n",
    "port = 6767\n",
    "\n",
    "s = socket.socket(socket.AF_INET, socket.SOCK_STREAM)                                # TCP/IP communication, with constants af, and internet protocol version 4, then TCP IDP\n",
    "s.bind((host,port))\n",
    "\n",
    "print(\"Server listening on port:\",port)\n",
    "s.listen(1)                                                  # No of connections\n",
    "\n",
    "c,addr = s.accept()                                          # Accept client connection when client tries to connect, address+connection\n",
    "\n",
    "fileName = c.recv(1024)\n",
    "\n",
    "try:\n",
    "    f = open(fileName,'rb')\n",
    "    content = f.read()\n",
    "    c.send(content)\n",
    "    f.close()\n",
    "except FileNotFoundError:\n",
    "    c.send(b\"File Does not exist\")\n",
    "                               \n",
    "c.close()'''"
   ]
  },
  {
   "cell_type": "code",
   "execution_count": null,
   "metadata": {},
   "outputs": [],
   "source": [
    "# File Client\n",
    "\n",
    "# Create a client for the fileserver 6767\n",
    "\n",
    "'''import socket\n",
    "\n",
    "s = socket.socket()                  # Default af_inet and sock_stream\n",
    "\n",
    "s.connect((\"locathost\",6767))          # connect to the host and port\n",
    "\n",
    "fileName = input(\"Enter a file name:\")\n",
    "\n",
    "s.send(fileName.encode())\n",
    "\n",
    "content = s.recv(1024)\n",
    "\n",
    "print(content.decode())\n",
    "    \n",
    "s.close()'''\n",
    "\n"
   ]
  },
  {
   "cell_type": "code",
   "execution_count": 1,
   "metadata": {},
   "outputs": [
    {
     "data": {
      "text/plain": [
       "'import smtplib\\nfrom email.mime.text import MIMEText\\n\\nbody = \"This is a test email. How are you\"\\n\\nmsg = MIMEText(body)\\n\\nmsg[\\'From\\'] = \\'xxx@gmail.com\\'\\nmsg[\\'To\\'] = \"xxx@gmail.com\"\\nmsg[\\'Subject\\'] = \"Hello\"\\nserver = smtplib.SMTP(\\'smtp.gmail.com\\',587)\\n\\nserver.starttls()\\n\\nserver.login(\"xxx@gmail.com\",\"password\")\\n\\nserver.send_message(msg)\\n\\nprint(\"Mail sent\")\\n\\nserver.quit()'"
      ]
     },
     "execution_count": 1,
     "metadata": {},
     "output_type": "execute_result"
    }
   ],
   "source": [
    "# Sending emails- body,subject, from, to and smtp server that connects with gmail\n",
    "\n",
    "'''import smtplib\n",
    "from email.mime.text import MIMEText\n",
    "\n",
    "body = \"This is a test email. How are you\"\n",
    "\n",
    "msg = MIMEText(body)\n",
    "\n",
    "msg['From'] = 'xxx@gmail.com'\n",
    "msg['To'] = \"xxx@gmail.com\"\n",
    "msg['Subject'] = \"Hello\"\n",
    "server = smtplib.SMTP('smtp.gmail.com',587)\n",
    "\n",
    "server.starttls()\n",
    "\n",
    "server.login(\"xxx@gmail.com\",\"password\")\n",
    "\n",
    "server.send_message(msg)\n",
    "\n",
    "print(\"Mail sent\")\n",
    "\n",
    "server.quit()'''\n",
    "\n"
   ]
  },
  {
   "cell_type": "code",
   "execution_count": null,
   "metadata": {},
   "outputs": [],
   "source": [
    "# Connect and execute sql statements against a database. First install mysql connector through \"pip3 install mysql-connector-python\"\n",
    "# MySQL - create database mydb     use mydb      create table emp(id int,name varchar(30),sal int)     insert into emp values(1,'John',10000)       insert into emp values(2,'Bob',20000)          select * from emp\n",
    "\n",
    "'''import mysql.connector;\n",
    "conn = mysql.connector.connect(host='localhost', database = 'mydb', user = 'root', password= 'xxx')\n",
    "if conn.is_connected():\n",
    "    print(\"Connected to mysql db\")\n",
    "    \n",
    "cursor = conn.cursor()\n",
    "\n",
    "cursor.execute('select * from emp')\n",
    "\n",
    "row = cursor.fetchone()                                             \n",
    "while row is not None:                                               \n",
    "    print(row)\n",
    "    row = cursor.fetchone()\n",
    "    \n",
    "cursor.close()\n",
    "conn.close()'''\n",
    "\n",
    "\n"
   ]
  },
  {
   "cell_type": "code",
   "execution_count": null,
   "metadata": {},
   "outputs": [],
   "source": [
    "'''import mysql.connector;\n",
    "conn = mysql.connector.connect(host='localhost', database = 'mydb', user = 'root', password= 'xxx')\n",
    "if conn.is_connected():\n",
    "    print(\"Connected to mysql db\")\n",
    "    \n",
    "cursor = conn.cursor()\n",
    "\n",
    "cursor.execute('select * from emp')\n",
    "\n",
    "rows = cursor.fetchall()                                             # fetch_one was used, first row was used changed to rows\n",
    "print(\"Total Number of records\",cursor.rowcount)\n",
    "\n",
    "for row is rows:                                               # while can be changed to for\n",
    "    print(row)\n",
    "       \n",
    "cursor.close()\n",
    "conn.close()'''\n"
   ]
  },
  {
   "cell_type": "code",
   "execution_count": null,
   "metadata": {},
   "outputs": [],
   "source": [
    "'''import mysql.connector;\n",
    "conn = mysql.connector.connect(host='localhost', database = 'mydb', user = 'root', password= 'xxx')\n",
    "if conn.is_connected():\n",
    "    print(\"Connected to mysql db\")\n",
    "    \n",
    "cursor = conn.cursor()\n",
    "\n",
    "try:\n",
    "    cursor.execute(\"insert into emp values(3,'Abhy',30000)\")\n",
    "    conn.commit()\n",
    "    print(\"Employee Added\")\n",
    "    \n",
    "except: \n",
    "    conn.rollback()\n",
    "\n",
    "cursor.close()\n",
    "conn.close()'''\n"
   ]
  },
  {
   "cell_type": "code",
   "execution_count": null,
   "metadata": {},
   "outputs": [],
   "source": [
    "# delete emp\n",
    "\n",
    "'''import mysql.connector;\n",
    "\n",
    "def delete(id):\n",
    "    conn = mysql.connector.connect(host='localhost', database = 'mydb', user = 'root', password= 'xxx')\n",
    "    \n",
    "    if conn.is_connected():\n",
    "        print(\"Connected to mysql db\")\n",
    "        cursor = conn.cursor()\n",
    "        str = \"delete from emp where id = '%d'\"\n",
    "        args = (id)\n",
    "        try:\n",
    "                cursor.execute(str % args)\n",
    "                conn.commit()\n",
    "                print(\"Employee Deleted\")\n",
    "        \n",
    "        except:\n",
    "            conn.rollback()\n",
    "        finally:\n",
    "            cursor.close()\n",
    "            conn.close()\n",
    "            \n",
    "empid = int(input('Enter Emp Id:'))\n",
    "delete(empId)'''\n"
   ]
  }
 ],
 "metadata": {
  "kernelspec": {
   "display_name": "Python 3",
   "language": "python",
   "name": "python3"
  },
  "language_info": {
   "codemirror_mode": {
    "name": "ipython",
    "version": 3
   },
   "file_extension": ".py",
   "mimetype": "text/x-python",
   "name": "python",
   "nbconvert_exporter": "python",
   "pygments_lexer": "ipython3",
   "version": "3.7.3"
  }
 },
 "nbformat": 4,
 "nbformat_minor": 2
}
