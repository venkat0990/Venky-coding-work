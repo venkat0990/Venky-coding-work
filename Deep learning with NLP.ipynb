{
 "cells": [
  {
   "cell_type": "code",
   "execution_count": 1,
   "metadata": {},
   "outputs": [],
   "source": [
    "import numpy as np"
   ]
  },
  {
   "cell_type": "code",
   "execution_count": 29,
   "metadata": {},
   "outputs": [],
   "source": [
    "import tensorflow as tf"
   ]
  },
  {
   "cell_type": "code",
   "execution_count": 2,
   "metadata": {},
   "outputs": [],
   "source": [
    "from sklearn.datasets import load_iris"
   ]
  },
  {
   "cell_type": "code",
   "execution_count": 3,
   "metadata": {},
   "outputs": [],
   "source": [
    "iris = load_iris()"
   ]
  },
  {
   "cell_type": "code",
   "execution_count": 4,
   "metadata": {},
   "outputs": [
    {
     "data": {
      "text/plain": [
       "sklearn.utils.Bunch"
      ]
     },
     "execution_count": 4,
     "metadata": {},
     "output_type": "execute_result"
    }
   ],
   "source": [
    "type(iris)"
   ]
  },
  {
   "cell_type": "code",
   "execution_count": 5,
   "metadata": {},
   "outputs": [
    {
     "name": "stdout",
     "output_type": "stream",
     "text": [
      ".. _iris_dataset:\n",
      "\n",
      "Iris plants dataset\n",
      "--------------------\n",
      "\n",
      "**Data Set Characteristics:**\n",
      "\n",
      "    :Number of Instances: 150 (50 in each of three classes)\n",
      "    :Number of Attributes: 4 numeric, predictive attributes and the class\n",
      "    :Attribute Information:\n",
      "        - sepal length in cm\n",
      "        - sepal width in cm\n",
      "        - petal length in cm\n",
      "        - petal width in cm\n",
      "        - class:\n",
      "                - Iris-Setosa\n",
      "                - Iris-Versicolour\n",
      "                - Iris-Virginica\n",
      "                \n",
      "    :Summary Statistics:\n",
      "\n",
      "    ============== ==== ==== ======= ===== ====================\n",
      "                    Min  Max   Mean    SD   Class Correlation\n",
      "    ============== ==== ==== ======= ===== ====================\n",
      "    sepal length:   4.3  7.9   5.84   0.83    0.7826\n",
      "    sepal width:    2.0  4.4   3.05   0.43   -0.4194\n",
      "    petal length:   1.0  6.9   3.76   1.76    0.9490  (high!)\n",
      "    petal width:    0.1  2.5   1.20   0.76    0.9565  (high!)\n",
      "    ============== ==== ==== ======= ===== ====================\n",
      "\n",
      "    :Missing Attribute Values: None\n",
      "    :Class Distribution: 33.3% for each of 3 classes.\n",
      "    :Creator: R.A. Fisher\n",
      "    :Donor: Michael Marshall (MARSHALL%PLU@io.arc.nasa.gov)\n",
      "    :Date: July, 1988\n",
      "\n",
      "The famous Iris database, first used by Sir R.A. Fisher. The dataset is taken\n",
      "from Fisher's paper. Note that it's the same as in R, but not as in the UCI\n",
      "Machine Learning Repository, which has two wrong data points.\n",
      "\n",
      "This is perhaps the best known database to be found in the\n",
      "pattern recognition literature.  Fisher's paper is a classic in the field and\n",
      "is referenced frequently to this day.  (See Duda & Hart, for example.)  The\n",
      "data set contains 3 classes of 50 instances each, where each class refers to a\n",
      "type of iris plant.  One class is linearly separable from the other 2; the\n",
      "latter are NOT linearly separable from each other.\n",
      "\n",
      ".. topic:: References\n",
      "\n",
      "   - Fisher, R.A. \"The use of multiple measurements in taxonomic problems\"\n",
      "     Annual Eugenics, 7, Part II, 179-188 (1936); also in \"Contributions to\n",
      "     Mathematical Statistics\" (John Wiley, NY, 1950).\n",
      "   - Duda, R.O., & Hart, P.E. (1973) Pattern Classification and Scene Analysis.\n",
      "     (Q327.D83) John Wiley & Sons.  ISBN 0-471-22361-1.  See page 218.\n",
      "   - Dasarathy, B.V. (1980) \"Nosing Around the Neighborhood: A New System\n",
      "     Structure and Classification Rule for Recognition in Partially Exposed\n",
      "     Environments\".  IEEE Transactions on Pattern Analysis and Machine\n",
      "     Intelligence, Vol. PAMI-2, No. 1, 67-71.\n",
      "   - Gates, G.W. (1972) \"The Reduced Nearest Neighbor Rule\".  IEEE Transactions\n",
      "     on Information Theory, May 1972, 431-433.\n",
      "   - See also: 1988 MLC Proceedings, 54-64.  Cheeseman et al\"s AUTOCLASS II\n",
      "     conceptual clustering system finds 3 classes in the data.\n",
      "   - Many, many more ...\n"
     ]
    }
   ],
   "source": [
    "print(iris.DESCR)"
   ]
  },
  {
   "cell_type": "code",
   "execution_count": 6,
   "metadata": {},
   "outputs": [],
   "source": [
    "X = iris.data"
   ]
  },
  {
   "cell_type": "code",
   "execution_count": 7,
   "metadata": {},
   "outputs": [
    {
     "data": {
      "text/plain": [
       "array([[5.1, 3.5, 1.4, 0.2],\n",
       "       [4.9, 3. , 1.4, 0.2],\n",
       "       [4.7, 3.2, 1.3, 0.2],\n",
       "       [4.6, 3.1, 1.5, 0.2],\n",
       "       [5. , 3.6, 1.4, 0.2],\n",
       "       [5.4, 3.9, 1.7, 0.4],\n",
       "       [4.6, 3.4, 1.4, 0.3],\n",
       "       [5. , 3.4, 1.5, 0.2],\n",
       "       [4.4, 2.9, 1.4, 0.2],\n",
       "       [4.9, 3.1, 1.5, 0.1],\n",
       "       [5.4, 3.7, 1.5, 0.2],\n",
       "       [4.8, 3.4, 1.6, 0.2],\n",
       "       [4.8, 3. , 1.4, 0.1],\n",
       "       [4.3, 3. , 1.1, 0.1],\n",
       "       [5.8, 4. , 1.2, 0.2],\n",
       "       [5.7, 4.4, 1.5, 0.4],\n",
       "       [5.4, 3.9, 1.3, 0.4],\n",
       "       [5.1, 3.5, 1.4, 0.3],\n",
       "       [5.7, 3.8, 1.7, 0.3],\n",
       "       [5.1, 3.8, 1.5, 0.3],\n",
       "       [5.4, 3.4, 1.7, 0.2],\n",
       "       [5.1, 3.7, 1.5, 0.4],\n",
       "       [4.6, 3.6, 1. , 0.2],\n",
       "       [5.1, 3.3, 1.7, 0.5],\n",
       "       [4.8, 3.4, 1.9, 0.2],\n",
       "       [5. , 3. , 1.6, 0.2],\n",
       "       [5. , 3.4, 1.6, 0.4],\n",
       "       [5.2, 3.5, 1.5, 0.2],\n",
       "       [5.2, 3.4, 1.4, 0.2],\n",
       "       [4.7, 3.2, 1.6, 0.2],\n",
       "       [4.8, 3.1, 1.6, 0.2],\n",
       "       [5.4, 3.4, 1.5, 0.4],\n",
       "       [5.2, 4.1, 1.5, 0.1],\n",
       "       [5.5, 4.2, 1.4, 0.2],\n",
       "       [4.9, 3.1, 1.5, 0.2],\n",
       "       [5. , 3.2, 1.2, 0.2],\n",
       "       [5.5, 3.5, 1.3, 0.2],\n",
       "       [4.9, 3.6, 1.4, 0.1],\n",
       "       [4.4, 3. , 1.3, 0.2],\n",
       "       [5.1, 3.4, 1.5, 0.2],\n",
       "       [5. , 3.5, 1.3, 0.3],\n",
       "       [4.5, 2.3, 1.3, 0.3],\n",
       "       [4.4, 3.2, 1.3, 0.2],\n",
       "       [5. , 3.5, 1.6, 0.6],\n",
       "       [5.1, 3.8, 1.9, 0.4],\n",
       "       [4.8, 3. , 1.4, 0.3],\n",
       "       [5.1, 3.8, 1.6, 0.2],\n",
       "       [4.6, 3.2, 1.4, 0.2],\n",
       "       [5.3, 3.7, 1.5, 0.2],\n",
       "       [5. , 3.3, 1.4, 0.2],\n",
       "       [7. , 3.2, 4.7, 1.4],\n",
       "       [6.4, 3.2, 4.5, 1.5],\n",
       "       [6.9, 3.1, 4.9, 1.5],\n",
       "       [5.5, 2.3, 4. , 1.3],\n",
       "       [6.5, 2.8, 4.6, 1.5],\n",
       "       [5.7, 2.8, 4.5, 1.3],\n",
       "       [6.3, 3.3, 4.7, 1.6],\n",
       "       [4.9, 2.4, 3.3, 1. ],\n",
       "       [6.6, 2.9, 4.6, 1.3],\n",
       "       [5.2, 2.7, 3.9, 1.4],\n",
       "       [5. , 2. , 3.5, 1. ],\n",
       "       [5.9, 3. , 4.2, 1.5],\n",
       "       [6. , 2.2, 4. , 1. ],\n",
       "       [6.1, 2.9, 4.7, 1.4],\n",
       "       [5.6, 2.9, 3.6, 1.3],\n",
       "       [6.7, 3.1, 4.4, 1.4],\n",
       "       [5.6, 3. , 4.5, 1.5],\n",
       "       [5.8, 2.7, 4.1, 1. ],\n",
       "       [6.2, 2.2, 4.5, 1.5],\n",
       "       [5.6, 2.5, 3.9, 1.1],\n",
       "       [5.9, 3.2, 4.8, 1.8],\n",
       "       [6.1, 2.8, 4. , 1.3],\n",
       "       [6.3, 2.5, 4.9, 1.5],\n",
       "       [6.1, 2.8, 4.7, 1.2],\n",
       "       [6.4, 2.9, 4.3, 1.3],\n",
       "       [6.6, 3. , 4.4, 1.4],\n",
       "       [6.8, 2.8, 4.8, 1.4],\n",
       "       [6.7, 3. , 5. , 1.7],\n",
       "       [6. , 2.9, 4.5, 1.5],\n",
       "       [5.7, 2.6, 3.5, 1. ],\n",
       "       [5.5, 2.4, 3.8, 1.1],\n",
       "       [5.5, 2.4, 3.7, 1. ],\n",
       "       [5.8, 2.7, 3.9, 1.2],\n",
       "       [6. , 2.7, 5.1, 1.6],\n",
       "       [5.4, 3. , 4.5, 1.5],\n",
       "       [6. , 3.4, 4.5, 1.6],\n",
       "       [6.7, 3.1, 4.7, 1.5],\n",
       "       [6.3, 2.3, 4.4, 1.3],\n",
       "       [5.6, 3. , 4.1, 1.3],\n",
       "       [5.5, 2.5, 4. , 1.3],\n",
       "       [5.5, 2.6, 4.4, 1.2],\n",
       "       [6.1, 3. , 4.6, 1.4],\n",
       "       [5.8, 2.6, 4. , 1.2],\n",
       "       [5. , 2.3, 3.3, 1. ],\n",
       "       [5.6, 2.7, 4.2, 1.3],\n",
       "       [5.7, 3. , 4.2, 1.2],\n",
       "       [5.7, 2.9, 4.2, 1.3],\n",
       "       [6.2, 2.9, 4.3, 1.3],\n",
       "       [5.1, 2.5, 3. , 1.1],\n",
       "       [5.7, 2.8, 4.1, 1.3],\n",
       "       [6.3, 3.3, 6. , 2.5],\n",
       "       [5.8, 2.7, 5.1, 1.9],\n",
       "       [7.1, 3. , 5.9, 2.1],\n",
       "       [6.3, 2.9, 5.6, 1.8],\n",
       "       [6.5, 3. , 5.8, 2.2],\n",
       "       [7.6, 3. , 6.6, 2.1],\n",
       "       [4.9, 2.5, 4.5, 1.7],\n",
       "       [7.3, 2.9, 6.3, 1.8],\n",
       "       [6.7, 2.5, 5.8, 1.8],\n",
       "       [7.2, 3.6, 6.1, 2.5],\n",
       "       [6.5, 3.2, 5.1, 2. ],\n",
       "       [6.4, 2.7, 5.3, 1.9],\n",
       "       [6.8, 3. , 5.5, 2.1],\n",
       "       [5.7, 2.5, 5. , 2. ],\n",
       "       [5.8, 2.8, 5.1, 2.4],\n",
       "       [6.4, 3.2, 5.3, 2.3],\n",
       "       [6.5, 3. , 5.5, 1.8],\n",
       "       [7.7, 3.8, 6.7, 2.2],\n",
       "       [7.7, 2.6, 6.9, 2.3],\n",
       "       [6. , 2.2, 5. , 1.5],\n",
       "       [6.9, 3.2, 5.7, 2.3],\n",
       "       [5.6, 2.8, 4.9, 2. ],\n",
       "       [7.7, 2.8, 6.7, 2. ],\n",
       "       [6.3, 2.7, 4.9, 1.8],\n",
       "       [6.7, 3.3, 5.7, 2.1],\n",
       "       [7.2, 3.2, 6. , 1.8],\n",
       "       [6.2, 2.8, 4.8, 1.8],\n",
       "       [6.1, 3. , 4.9, 1.8],\n",
       "       [6.4, 2.8, 5.6, 2.1],\n",
       "       [7.2, 3. , 5.8, 1.6],\n",
       "       [7.4, 2.8, 6.1, 1.9],\n",
       "       [7.9, 3.8, 6.4, 2. ],\n",
       "       [6.4, 2.8, 5.6, 2.2],\n",
       "       [6.3, 2.8, 5.1, 1.5],\n",
       "       [6.1, 2.6, 5.6, 1.4],\n",
       "       [7.7, 3. , 6.1, 2.3],\n",
       "       [6.3, 3.4, 5.6, 2.4],\n",
       "       [6.4, 3.1, 5.5, 1.8],\n",
       "       [6. , 3. , 4.8, 1.8],\n",
       "       [6.9, 3.1, 5.4, 2.1],\n",
       "       [6.7, 3.1, 5.6, 2.4],\n",
       "       [6.9, 3.1, 5.1, 2.3],\n",
       "       [5.8, 2.7, 5.1, 1.9],\n",
       "       [6.8, 3.2, 5.9, 2.3],\n",
       "       [6.7, 3.3, 5.7, 2.5],\n",
       "       [6.7, 3. , 5.2, 2.3],\n",
       "       [6.3, 2.5, 5. , 1.9],\n",
       "       [6.5, 3. , 5.2, 2. ],\n",
       "       [6.2, 3.4, 5.4, 2.3],\n",
       "       [5.9, 3. , 5.1, 1.8]])"
      ]
     },
     "execution_count": 7,
     "metadata": {},
     "output_type": "execute_result"
    }
   ],
   "source": [
    "X"
   ]
  },
  {
   "cell_type": "code",
   "execution_count": 15,
   "metadata": {},
   "outputs": [],
   "source": [
    "y = iris.target"
   ]
  },
  {
   "cell_type": "code",
   "execution_count": 16,
   "metadata": {},
   "outputs": [
    {
     "data": {
      "text/plain": [
       "array([0, 0, 0, 0, 0, 0, 0, 0, 0, 0, 0, 0, 0, 0, 0, 0, 0, 0, 0, 0, 0, 0,\n",
       "       0, 0, 0, 0, 0, 0, 0, 0, 0, 0, 0, 0, 0, 0, 0, 0, 0, 0, 0, 0, 0, 0,\n",
       "       0, 0, 0, 0, 0, 0, 1, 1, 1, 1, 1, 1, 1, 1, 1, 1, 1, 1, 1, 1, 1, 1,\n",
       "       1, 1, 1, 1, 1, 1, 1, 1, 1, 1, 1, 1, 1, 1, 1, 1, 1, 1, 1, 1, 1, 1,\n",
       "       1, 1, 1, 1, 1, 1, 1, 1, 1, 1, 1, 1, 2, 2, 2, 2, 2, 2, 2, 2, 2, 2,\n",
       "       2, 2, 2, 2, 2, 2, 2, 2, 2, 2, 2, 2, 2, 2, 2, 2, 2, 2, 2, 2, 2, 2,\n",
       "       2, 2, 2, 2, 2, 2, 2, 2, 2, 2, 2, 2, 2, 2, 2, 2, 2, 2])"
      ]
     },
     "execution_count": 16,
     "metadata": {},
     "output_type": "execute_result"
    }
   ],
   "source": [
    "y"
   ]
  },
  {
   "cell_type": "code",
   "execution_count": 10,
   "metadata": {},
   "outputs": [],
   "source": [
    "# class 0 --> [1,0,0]\n",
    "# class 1 --> [0,1,0]\n",
    "# class 2 --> [0,0,1]\n"
   ]
  },
  {
   "cell_type": "code",
   "execution_count": 11,
   "metadata": {},
   "outputs": [
    {
     "name": "stderr",
     "output_type": "stream",
     "text": [
      "Using TensorFlow backend.\n"
     ]
    }
   ],
   "source": [
    "from keras.utils import to_categorical"
   ]
  },
  {
   "cell_type": "code",
   "execution_count": 17,
   "metadata": {},
   "outputs": [
    {
     "data": {
      "text/plain": [
       "(150, 3)"
      ]
     },
     "execution_count": 17,
     "metadata": {},
     "output_type": "execute_result"
    }
   ],
   "source": [
    "y = to_categorical(y)\n",
    "y.shape\n"
   ]
  },
  {
   "cell_type": "code",
   "execution_count": 19,
   "metadata": {},
   "outputs": [],
   "source": [
    "# y"
   ]
  },
  {
   "cell_type": "code",
   "execution_count": 20,
   "metadata": {},
   "outputs": [],
   "source": [
    "from sklearn.model_selection import train_test_split"
   ]
  },
  {
   "cell_type": "code",
   "execution_count": 21,
   "metadata": {},
   "outputs": [],
   "source": [
    "X_train, X_test, y_train, y_test = train_test_split(X,y,test_size= 0.33, random_state=42)"
   ]
  },
  {
   "cell_type": "code",
   "execution_count": 22,
   "metadata": {},
   "outputs": [],
   "source": [
    "from sklearn.preprocessing import MinMaxScaler"
   ]
  },
  {
   "cell_type": "code",
   "execution_count": 23,
   "metadata": {},
   "outputs": [],
   "source": [
    "# np.array([5,10,15,20])/20\n",
    "scaler_object = MinMaxScaler()"
   ]
  },
  {
   "cell_type": "code",
   "execution_count": 24,
   "metadata": {},
   "outputs": [
    {
     "data": {
      "text/plain": [
       "MinMaxScaler(copy=True, feature_range=(0, 1))"
      ]
     },
     "execution_count": 24,
     "metadata": {},
     "output_type": "execute_result"
    }
   ],
   "source": [
    "scaler_object.fit(X_train)"
   ]
  },
  {
   "cell_type": "code",
   "execution_count": 25,
   "metadata": {},
   "outputs": [],
   "source": [
    "scaled_X_train = scaler_object.transform(X_train)"
   ]
  },
  {
   "cell_type": "code",
   "execution_count": 26,
   "metadata": {},
   "outputs": [],
   "source": [
    "scaled_X_test = scaler_object.transform(X_test)"
   ]
  },
  {
   "cell_type": "code",
   "execution_count": 31,
   "metadata": {},
   "outputs": [],
   "source": [
    "from tensorflow.keras.models import Sequential\n",
    "from tensorflow.keras.layers import Dense\n"
   ]
  },
  {
   "cell_type": "code",
   "execution_count": 33,
   "metadata": {},
   "outputs": [],
   "source": [
    "model = Sequential()\n",
    "model.add(Dense(8,input_dim=4,activation = 'relu'))\n",
    "model.add(Dense(8,input_dim=4,activation = 'relu'))\n",
    "model.add(Dense(3,activation = 'softmax'))\n",
    "model.compile(loss='categorical_crossentropy',optimizer = 'adam', metrics = ['accuracy'])\n"
   ]
  },
  {
   "cell_type": "code",
   "execution_count": 34,
   "metadata": {},
   "outputs": [
    {
     "name": "stdout",
     "output_type": "stream",
     "text": [
      "Model: \"sequential_1\"\n",
      "_________________________________________________________________\n",
      "Layer (type)                 Output Shape              Param #   \n",
      "=================================================================\n",
      "dense_3 (Dense)              (None, 8)                 40        \n",
      "_________________________________________________________________\n",
      "dense_4 (Dense)              (None, 8)                 72        \n",
      "_________________________________________________________________\n",
      "dense_5 (Dense)              (None, 3)                 27        \n",
      "=================================================================\n",
      "Total params: 139\n",
      "Trainable params: 139\n",
      "Non-trainable params: 0\n",
      "_________________________________________________________________\n"
     ]
    }
   ],
   "source": [
    "model.summary()"
   ]
  },
  {
   "cell_type": "code",
   "execution_count": 35,
   "metadata": {},
   "outputs": [
    {
     "name": "stdout",
     "output_type": "stream",
     "text": [
      "Train on 100 samples\n",
      "Epoch 1/150\n",
      "100/100 - 6s - loss: 1.1270 - accuracy: 0.4300\n",
      "Epoch 2/150\n",
      "100/100 - 0s - loss: 1.1228 - accuracy: 0.3700\n",
      "Epoch 3/150\n",
      "100/100 - 0s - loss: 1.1194 - accuracy: 0.3600\n",
      "Epoch 4/150\n",
      "100/100 - 0s - loss: 1.1161 - accuracy: 0.3500\n",
      "Epoch 5/150\n",
      "100/100 - 0s - loss: 1.1129 - accuracy: 0.3500\n",
      "Epoch 6/150\n",
      "100/100 - 0s - loss: 1.1101 - accuracy: 0.3500\n",
      "Epoch 7/150\n",
      "100/100 - 0s - loss: 1.1069 - accuracy: 0.3500\n",
      "Epoch 8/150\n",
      "100/100 - 0s - loss: 1.1042 - accuracy: 0.3500\n",
      "Epoch 9/150\n",
      "100/100 - 0s - loss: 1.1014 - accuracy: 0.3500\n",
      "Epoch 10/150\n",
      "100/100 - 0s - loss: 1.0985 - accuracy: 0.3500\n",
      "Epoch 11/150\n",
      "100/100 - 0s - loss: 1.0952 - accuracy: 0.3500\n",
      "Epoch 12/150\n",
      "100/100 - 0s - loss: 1.0917 - accuracy: 0.3500\n",
      "Epoch 13/150\n",
      "100/100 - 0s - loss: 1.0877 - accuracy: 0.3500\n",
      "Epoch 14/150\n",
      "100/100 - 0s - loss: 1.0840 - accuracy: 0.3500\n",
      "Epoch 15/150\n",
      "100/100 - 0s - loss: 1.0799 - accuracy: 0.3500\n",
      "Epoch 16/150\n",
      "100/100 - 0s - loss: 1.0760 - accuracy: 0.3500\n",
      "Epoch 17/150\n",
      "100/100 - 0s - loss: 1.0721 - accuracy: 0.3500\n",
      "Epoch 18/150\n",
      "100/100 - 0s - loss: 1.0679 - accuracy: 0.3500\n",
      "Epoch 19/150\n",
      "100/100 - 0s - loss: 1.0634 - accuracy: 0.3500\n",
      "Epoch 20/150\n",
      "100/100 - 0s - loss: 1.0592 - accuracy: 0.3500\n",
      "Epoch 21/150\n",
      "100/100 - 0s - loss: 1.0549 - accuracy: 0.3500\n",
      "Epoch 22/150\n",
      "100/100 - 0s - loss: 1.0506 - accuracy: 0.3500\n",
      "Epoch 23/150\n",
      "100/100 - 0s - loss: 1.0465 - accuracy: 0.3500\n",
      "Epoch 24/150\n",
      "100/100 - 0s - loss: 1.0426 - accuracy: 0.3500\n",
      "Epoch 25/150\n",
      "100/100 - 0s - loss: 1.0385 - accuracy: 0.3500\n",
      "Epoch 26/150\n",
      "100/100 - 0s - loss: 1.0341 - accuracy: 0.3500\n",
      "Epoch 27/150\n",
      "100/100 - 0s - loss: 1.0298 - accuracy: 0.3500\n",
      "Epoch 28/150\n",
      "100/100 - 0s - loss: 1.0250 - accuracy: 0.3500\n",
      "Epoch 29/150\n",
      "100/100 - 0s - loss: 1.0202 - accuracy: 0.3400\n",
      "Epoch 30/150\n",
      "100/100 - 0s - loss: 1.0158 - accuracy: 0.3400\n",
      "Epoch 31/150\n",
      "100/100 - 0s - loss: 1.0108 - accuracy: 0.3000\n",
      "Epoch 32/150\n",
      "100/100 - 0s - loss: 1.0063 - accuracy: 0.2500\n",
      "Epoch 33/150\n",
      "100/100 - 0s - loss: 1.0012 - accuracy: 0.2700\n",
      "Epoch 34/150\n",
      "100/100 - 0s - loss: 0.9964 - accuracy: 0.2600\n",
      "Epoch 35/150\n",
      "100/100 - 0s - loss: 0.9916 - accuracy: 0.2800\n",
      "Epoch 36/150\n",
      "100/100 - 0s - loss: 0.9865 - accuracy: 0.2900\n",
      "Epoch 37/150\n",
      "100/100 - 0s - loss: 0.9814 - accuracy: 0.3700\n",
      "Epoch 38/150\n",
      "100/100 - 0s - loss: 0.9762 - accuracy: 0.4200\n",
      "Epoch 39/150\n",
      "100/100 - 0s - loss: 0.9709 - accuracy: 0.4900\n",
      "Epoch 40/150\n",
      "100/100 - 0s - loss: 0.9655 - accuracy: 0.5200\n",
      "Epoch 41/150\n",
      "100/100 - 0s - loss: 0.9598 - accuracy: 0.5600\n",
      "Epoch 42/150\n",
      "100/100 - 0s - loss: 0.9541 - accuracy: 0.5600\n",
      "Epoch 43/150\n",
      "100/100 - 0s - loss: 0.9483 - accuracy: 0.5400\n",
      "Epoch 44/150\n",
      "100/100 - 0s - loss: 0.9422 - accuracy: 0.5500\n",
      "Epoch 45/150\n",
      "100/100 - 0s - loss: 0.9364 - accuracy: 0.5500\n",
      "Epoch 46/150\n",
      "100/100 - 0s - loss: 0.9305 - accuracy: 0.5700\n",
      "Epoch 47/150\n",
      "100/100 - 0s - loss: 0.9244 - accuracy: 0.6000\n",
      "Epoch 48/150\n",
      "100/100 - 0s - loss: 0.9184 - accuracy: 0.5900\n",
      "Epoch 49/150\n",
      "100/100 - 0s - loss: 0.9124 - accuracy: 0.5900\n",
      "Epoch 50/150\n",
      "100/100 - 0s - loss: 0.9064 - accuracy: 0.6200\n",
      "Epoch 51/150\n",
      "100/100 - 0s - loss: 0.9005 - accuracy: 0.6300\n",
      "Epoch 52/150\n",
      "100/100 - 0s - loss: 0.8946 - accuracy: 0.6300\n",
      "Epoch 53/150\n",
      "100/100 - 0s - loss: 0.8883 - accuracy: 0.6400\n",
      "Epoch 54/150\n",
      "100/100 - 0s - loss: 0.8823 - accuracy: 0.6400\n",
      "Epoch 55/150\n",
      "100/100 - 0s - loss: 0.8756 - accuracy: 0.6400\n",
      "Epoch 56/150\n",
      "100/100 - 0s - loss: 0.8696 - accuracy: 0.6400\n",
      "Epoch 57/150\n",
      "100/100 - 0s - loss: 0.8635 - accuracy: 0.6400\n",
      "Epoch 58/150\n",
      "100/100 - 0s - loss: 0.8574 - accuracy: 0.6400\n",
      "Epoch 59/150\n",
      "100/100 - 0s - loss: 0.8514 - accuracy: 0.6400\n",
      "Epoch 60/150\n",
      "100/100 - 0s - loss: 0.8452 - accuracy: 0.6400\n",
      "Epoch 61/150\n",
      "100/100 - 0s - loss: 0.8391 - accuracy: 0.6400\n",
      "Epoch 62/150\n",
      "100/100 - 0s - loss: 0.8330 - accuracy: 0.6400\n",
      "Epoch 63/150\n",
      "100/100 - 0s - loss: 0.8271 - accuracy: 0.6500\n",
      "Epoch 64/150\n",
      "100/100 - 0s - loss: 0.8212 - accuracy: 0.6500\n",
      "Epoch 65/150\n",
      "100/100 - 0s - loss: 0.8150 - accuracy: 0.6500\n",
      "Epoch 66/150\n",
      "100/100 - 0s - loss: 0.8092 - accuracy: 0.6500\n",
      "Epoch 67/150\n",
      "100/100 - 0s - loss: 0.8032 - accuracy: 0.6500\n",
      "Epoch 68/150\n",
      "100/100 - 0s - loss: 0.7975 - accuracy: 0.6500\n",
      "Epoch 69/150\n",
      "100/100 - 0s - loss: 0.7919 - accuracy: 0.6500\n",
      "Epoch 70/150\n",
      "100/100 - 0s - loss: 0.7863 - accuracy: 0.6500\n",
      "Epoch 71/150\n",
      "100/100 - 0s - loss: 0.7809 - accuracy: 0.6500\n",
      "Epoch 72/150\n",
      "100/100 - 0s - loss: 0.7752 - accuracy: 0.6500\n",
      "Epoch 73/150\n",
      "100/100 - 0s - loss: 0.7700 - accuracy: 0.6500\n",
      "Epoch 74/150\n",
      "100/100 - 0s - loss: 0.7646 - accuracy: 0.6500\n",
      "Epoch 75/150\n",
      "100/100 - 0s - loss: 0.7590 - accuracy: 0.6500\n",
      "Epoch 76/150\n",
      "100/100 - 0s - loss: 0.7532 - accuracy: 0.6500\n",
      "Epoch 77/150\n",
      "100/100 - 0s - loss: 0.7469 - accuracy: 0.6500\n",
      "Epoch 78/150\n",
      "100/100 - 0s - loss: 0.7412 - accuracy: 0.6500\n",
      "Epoch 79/150\n",
      "100/100 - 0s - loss: 0.7353 - accuracy: 0.6500\n",
      "Epoch 80/150\n",
      "100/100 - 0s - loss: 0.7294 - accuracy: 0.6500\n",
      "Epoch 81/150\n",
      "100/100 - 0s - loss: 0.7245 - accuracy: 0.6500\n",
      "Epoch 82/150\n",
      "100/100 - 0s - loss: 0.7193 - accuracy: 0.6500\n",
      "Epoch 83/150\n",
      "100/100 - 0s - loss: 0.7135 - accuracy: 0.6500\n",
      "Epoch 84/150\n",
      "100/100 - 0s - loss: 0.7078 - accuracy: 0.6500\n",
      "Epoch 85/150\n",
      "100/100 - 0s - loss: 0.7023 - accuracy: 0.6500\n",
      "Epoch 86/150\n",
      "100/100 - 0s - loss: 0.6962 - accuracy: 0.6500\n",
      "Epoch 87/150\n",
      "100/100 - 0s - loss: 0.6902 - accuracy: 0.6500\n",
      "Epoch 88/150\n",
      "100/100 - 0s - loss: 0.6844 - accuracy: 0.6500\n",
      "Epoch 89/150\n",
      "100/100 - 0s - loss: 0.6789 - accuracy: 0.6500\n",
      "Epoch 90/150\n",
      "100/100 - 0s - loss: 0.6731 - accuracy: 0.6500\n",
      "Epoch 91/150\n",
      "100/100 - 0s - loss: 0.6677 - accuracy: 0.6500\n",
      "Epoch 92/150\n",
      "100/100 - 0s - loss: 0.6626 - accuracy: 0.6500\n",
      "Epoch 93/150\n",
      "100/100 - 0s - loss: 0.6576 - accuracy: 0.6500\n",
      "Epoch 94/150\n",
      "100/100 - 0s - loss: 0.6529 - accuracy: 0.6500\n",
      "Epoch 95/150\n",
      "100/100 - 0s - loss: 0.6482 - accuracy: 0.6500\n",
      "Epoch 96/150\n",
      "100/100 - 0s - loss: 0.6434 - accuracy: 0.6500\n",
      "Epoch 97/150\n",
      "100/100 - 0s - loss: 0.6389 - accuracy: 0.6500\n",
      "Epoch 98/150\n",
      "100/100 - 0s - loss: 0.6342 - accuracy: 0.6500\n",
      "Epoch 99/150\n",
      "100/100 - 0s - loss: 0.6299 - accuracy: 0.6500\n",
      "Epoch 100/150\n",
      "100/100 - 0s - loss: 0.6251 - accuracy: 0.6500\n",
      "Epoch 101/150\n",
      "100/100 - 0s - loss: 0.6209 - accuracy: 0.6500\n",
      "Epoch 102/150\n",
      "100/100 - 0s - loss: 0.6162 - accuracy: 0.6500\n",
      "Epoch 103/150\n",
      "100/100 - 0s - loss: 0.6123 - accuracy: 0.6500\n",
      "Epoch 104/150\n",
      "100/100 - 0s - loss: 0.6084 - accuracy: 0.6500\n",
      "Epoch 105/150\n",
      "100/100 - 0s - loss: 0.6040 - accuracy: 0.6500\n",
      "Epoch 106/150\n",
      "100/100 - 0s - loss: 0.5996 - accuracy: 0.6500\n",
      "Epoch 107/150\n",
      "100/100 - 0s - loss: 0.5956 - accuracy: 0.6500\n",
      "Epoch 108/150\n",
      "100/100 - 0s - loss: 0.5915 - accuracy: 0.6500\n",
      "Epoch 109/150\n",
      "100/100 - 0s - loss: 0.5876 - accuracy: 0.6500\n",
      "Epoch 110/150\n",
      "100/100 - 0s - loss: 0.5838 - accuracy: 0.6500\n",
      "Epoch 111/150\n",
      "100/100 - 0s - loss: 0.5798 - accuracy: 0.6500\n",
      "Epoch 112/150\n",
      "100/100 - 0s - loss: 0.5760 - accuracy: 0.6500\n",
      "Epoch 113/150\n",
      "100/100 - 0s - loss: 0.5731 - accuracy: 0.6500\n",
      "Epoch 114/150\n",
      "100/100 - 0s - loss: 0.5689 - accuracy: 0.6500\n",
      "Epoch 115/150\n",
      "100/100 - 0s - loss: 0.5657 - accuracy: 0.6500\n",
      "Epoch 116/150\n",
      "100/100 - 0s - loss: 0.5620 - accuracy: 0.6500\n",
      "Epoch 117/150\n",
      "100/100 - 0s - loss: 0.5587 - accuracy: 0.6500\n",
      "Epoch 118/150\n",
      "100/100 - 0s - loss: 0.5555 - accuracy: 0.6500\n",
      "Epoch 119/150\n",
      "100/100 - 0s - loss: 0.5528 - accuracy: 0.6500\n",
      "Epoch 120/150\n",
      "100/100 - 0s - loss: 0.5493 - accuracy: 0.6500\n",
      "Epoch 121/150\n",
      "100/100 - 0s - loss: 0.5461 - accuracy: 0.6500\n",
      "Epoch 122/150\n",
      "100/100 - 0s - loss: 0.5433 - accuracy: 0.6500\n",
      "Epoch 123/150\n",
      "100/100 - 0s - loss: 0.5407 - accuracy: 0.6500\n",
      "Epoch 124/150\n",
      "100/100 - 0s - loss: 0.5379 - accuracy: 0.6500\n",
      "Epoch 125/150\n",
      "100/100 - 0s - loss: 0.5354 - accuracy: 0.6500\n",
      "Epoch 126/150\n",
      "100/100 - 0s - loss: 0.5329 - accuracy: 0.6500\n",
      "Epoch 127/150\n",
      "100/100 - 0s - loss: 0.5303 - accuracy: 0.6500\n",
      "Epoch 128/150\n",
      "100/100 - 0s - loss: 0.5280 - accuracy: 0.6500\n",
      "Epoch 129/150\n",
      "100/100 - 0s - loss: 0.5257 - accuracy: 0.6500\n",
      "Epoch 130/150\n",
      "100/100 - 0s - loss: 0.5233 - accuracy: 0.6500\n",
      "Epoch 131/150\n",
      "100/100 - 0s - loss: 0.5209 - accuracy: 0.6500\n",
      "Epoch 132/150\n",
      "100/100 - 0s - loss: 0.5187 - accuracy: 0.6500\n",
      "Epoch 133/150\n",
      "100/100 - 0s - loss: 0.5175 - accuracy: 0.6600\n",
      "Epoch 134/150\n",
      "100/100 - 0s - loss: 0.5145 - accuracy: 0.6600\n",
      "Epoch 135/150\n",
      "100/100 - 0s - loss: 0.5123 - accuracy: 0.6600\n",
      "Epoch 136/150\n",
      "100/100 - 0s - loss: 0.5104 - accuracy: 0.6600\n"
     ]
    },
    {
     "name": "stdout",
     "output_type": "stream",
     "text": [
      "Epoch 137/150\n",
      "100/100 - 0s - loss: 0.5083 - accuracy: 0.6700\n",
      "Epoch 138/150\n",
      "100/100 - 0s - loss: 0.5064 - accuracy: 0.6800\n",
      "Epoch 139/150\n",
      "100/100 - 0s - loss: 0.5044 - accuracy: 0.6800\n",
      "Epoch 140/150\n",
      "100/100 - 0s - loss: 0.5025 - accuracy: 0.6800\n",
      "Epoch 141/150\n",
      "100/100 - 0s - loss: 0.5005 - accuracy: 0.6600\n",
      "Epoch 142/150\n",
      "100/100 - 0s - loss: 0.4986 - accuracy: 0.6600\n",
      "Epoch 143/150\n",
      "100/100 - 0s - loss: 0.4971 - accuracy: 0.6600\n",
      "Epoch 144/150\n",
      "100/100 - 0s - loss: 0.4953 - accuracy: 0.6600\n",
      "Epoch 145/150\n",
      "100/100 - 0s - loss: 0.4936 - accuracy: 0.6600\n",
      "Epoch 146/150\n",
      "100/100 - 0s - loss: 0.4918 - accuracy: 0.6600\n",
      "Epoch 147/150\n",
      "100/100 - 0s - loss: 0.4900 - accuracy: 0.6600\n",
      "Epoch 148/150\n",
      "100/100 - 0s - loss: 0.4884 - accuracy: 0.6600\n",
      "Epoch 149/150\n",
      "100/100 - 0s - loss: 0.4867 - accuracy: 0.6600\n",
      "Epoch 150/150\n",
      "100/100 - 0s - loss: 0.4851 - accuracy: 0.6600\n"
     ]
    },
    {
     "data": {
      "text/plain": [
       "<tensorflow.python.keras.callbacks.History at 0x22cd75d23c8>"
      ]
     },
     "execution_count": 35,
     "metadata": {},
     "output_type": "execute_result"
    }
   ],
   "source": [
    "model.fit(scaled_X_train,y_train,epochs=150,verbose=2)"
   ]
  },
  {
   "cell_type": "code",
   "execution_count": 37,
   "metadata": {},
   "outputs": [
    {
     "data": {
      "text/plain": [
       "array([2, 0, 2, 2, 2, 0, 2, 2, 2, 2, 2, 0, 0, 0, 0, 2, 2, 2, 2, 2, 0, 2,\n",
       "       0, 2, 2, 2, 2, 2, 0, 0, 0, 0, 2, 0, 0, 2, 2, 0, 0, 0, 2, 2, 2, 0,\n",
       "       0, 2, 2, 2, 2, 2], dtype=int64)"
      ]
     },
     "execution_count": 37,
     "metadata": {},
     "output_type": "execute_result"
    }
   ],
   "source": [
    "model.predict_classes(scaled_X_test)"
   ]
  },
  {
   "cell_type": "code",
   "execution_count": 38,
   "metadata": {},
   "outputs": [],
   "source": [
    "# y_test"
   ]
  },
  {
   "cell_type": "code",
   "execution_count": 39,
   "metadata": {},
   "outputs": [],
   "source": [
    "predictions = model.predict_classes(scaled_X_test)"
   ]
  },
  {
   "cell_type": "code",
   "execution_count": 40,
   "metadata": {},
   "outputs": [
    {
     "data": {
      "text/plain": [
       "array([1, 0, 2, 1, 1, 0, 1, 2, 1, 1, 2, 0, 0, 0, 0, 1, 2, 1, 1, 2, 0, 2,\n",
       "       0, 2, 2, 2, 2, 2, 0, 0, 0, 0, 1, 0, 0, 2, 1, 0, 0, 0, 2, 1, 1, 0,\n",
       "       0, 1, 2, 2, 1, 2], dtype=int64)"
      ]
     },
     "execution_count": 40,
     "metadata": {},
     "output_type": "execute_result"
    }
   ],
   "source": [
    "y_test.argmax(axis=1)"
   ]
  },
  {
   "cell_type": "code",
   "execution_count": 41,
   "metadata": {},
   "outputs": [
    {
     "data": {
      "text/plain": [
       "array([[19,  0,  0],\n",
       "       [ 0,  0, 15],\n",
       "       [ 0,  0, 16]], dtype=int64)"
      ]
     },
     "execution_count": 41,
     "metadata": {},
     "output_type": "execute_result"
    }
   ],
   "source": [
    "from sklearn.metrics import confusion_matrix,classification_report,accuracy_score\n",
    "confusion_matrix(y_test.argmax(axis=1),predictions)"
   ]
  },
  {
   "cell_type": "code",
   "execution_count": 42,
   "metadata": {},
   "outputs": [
    {
     "name": "stdout",
     "output_type": "stream",
     "text": [
      "              precision    recall  f1-score   support\n",
      "\n",
      "           0       1.00      1.00      1.00        19\n",
      "           1       0.00      0.00      0.00        15\n",
      "           2       0.52      1.00      0.68        16\n",
      "\n",
      "    accuracy                           0.70        50\n",
      "   macro avg       0.51      0.67      0.56        50\n",
      "weighted avg       0.55      0.70      0.60        50\n",
      "\n"
     ]
    },
    {
     "name": "stderr",
     "output_type": "stream",
     "text": [
      "C:\\Users\\VenkyTheGreat\\Anaconda3\\lib\\site-packages\\sklearn\\metrics\\classification.py:1437: UndefinedMetricWarning: Precision and F-score are ill-defined and being set to 0.0 in labels with no predicted samples.\n",
      "  'precision', 'predicted', average, warn_for)\n"
     ]
    }
   ],
   "source": [
    "print(classification_report(y_test.argmax(axis=1),predictions))"
   ]
  },
  {
   "cell_type": "code",
   "execution_count": 43,
   "metadata": {},
   "outputs": [
    {
     "data": {
      "text/plain": [
       "0.7"
      ]
     },
     "execution_count": 43,
     "metadata": {},
     "output_type": "execute_result"
    }
   ],
   "source": [
    "accuracy_score(y_test.argmax(axis=1),predictions)\n"
   ]
  },
  {
   "cell_type": "code",
   "execution_count": 44,
   "metadata": {},
   "outputs": [],
   "source": [
    "model.save('myfirstmodel.h5')"
   ]
  },
  {
   "cell_type": "code",
   "execution_count": 47,
   "metadata": {},
   "outputs": [],
   "source": [
    "from tensorflow.keras.models import load_model"
   ]
  },
  {
   "cell_type": "code",
   "execution_count": 48,
   "metadata": {},
   "outputs": [],
   "source": [
    "new_model = load_model('myfirstmodel.h5')"
   ]
  },
  {
   "cell_type": "code",
   "execution_count": 49,
   "metadata": {},
   "outputs": [
    {
     "data": {
      "text/plain": [
       "array([2, 0, 2, 2, 2, 0, 2, 2, 2, 2, 2, 0, 0, 0, 0, 2, 2, 2, 2, 2, 0, 2,\n",
       "       0, 2, 2, 2, 2, 2, 0, 0, 0, 0, 2, 0, 0, 2, 2, 0, 0, 0, 2, 2, 2, 0,\n",
       "       0, 2, 2, 2, 2, 2], dtype=int64)"
      ]
     },
     "execution_count": 49,
     "metadata": {},
     "output_type": "execute_result"
    }
   ],
   "source": [
    "new_model.predict_classes(scaled_X_test)"
   ]
  },
  {
   "cell_type": "code",
   "execution_count": null,
   "metadata": {},
   "outputs": [],
   "source": []
  }
 ],
 "metadata": {
  "kernelspec": {
   "display_name": "Python 3",
   "language": "python",
   "name": "python3"
  },
  "language_info": {
   "codemirror_mode": {
    "name": "ipython",
    "version": 3
   },
   "file_extension": ".py",
   "mimetype": "text/x-python",
   "name": "python",
   "nbconvert_exporter": "python",
   "pygments_lexer": "ipython3",
   "version": "3.7.3"
  }
 },
 "nbformat": 4,
 "nbformat_minor": 2
}
