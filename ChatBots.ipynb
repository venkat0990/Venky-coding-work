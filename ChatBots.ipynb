{
 "cells": [
  {
   "cell_type": "code",
   "execution_count": 1,
   "metadata": {},
   "outputs": [],
   "source": [
    "import pickle\n",
    "import numpy as np\n"
   ]
  },
  {
   "cell_type": "code",
   "execution_count": 2,
   "metadata": {},
   "outputs": [],
   "source": [
    "with open('train_qa.txt','rb') as f:\n",
    "    train_data = pickle.load(f)\n"
   ]
  },
  {
   "cell_type": "code",
   "execution_count": 3,
   "metadata": {},
   "outputs": [],
   "source": [
    "with open('test_qa.txt','rb') as f:\n",
    "    test_data = pickle.load(f)\n"
   ]
  },
  {
   "cell_type": "code",
   "execution_count": 4,
   "metadata": {},
   "outputs": [
    {
     "data": {
      "text/plain": [
       "list"
      ]
     },
     "execution_count": 4,
     "metadata": {},
     "output_type": "execute_result"
    }
   ],
   "source": [
    "type(test_data)"
   ]
  },
  {
   "cell_type": "code",
   "execution_count": 5,
   "metadata": {},
   "outputs": [
    {
     "data": {
      "text/plain": [
       "list"
      ]
     },
     "execution_count": 5,
     "metadata": {},
     "output_type": "execute_result"
    }
   ],
   "source": [
    "type(train_data)"
   ]
  },
  {
   "cell_type": "code",
   "execution_count": 6,
   "metadata": {},
   "outputs": [
    {
     "data": {
      "text/plain": [
       "10000"
      ]
     },
     "execution_count": 6,
     "metadata": {},
     "output_type": "execute_result"
    }
   ],
   "source": [
    "len(train_data)"
   ]
  },
  {
   "cell_type": "code",
   "execution_count": 7,
   "metadata": {},
   "outputs": [
    {
     "data": {
      "text/plain": [
       "1000"
      ]
     },
     "execution_count": 7,
     "metadata": {},
     "output_type": "execute_result"
    }
   ],
   "source": [
    "len(test_data)"
   ]
  },
  {
   "cell_type": "code",
   "execution_count": 8,
   "metadata": {},
   "outputs": [
    {
     "data": {
      "text/plain": [
       "(['Mary',\n",
       "  'moved',\n",
       "  'to',\n",
       "  'the',\n",
       "  'bathroom',\n",
       "  '.',\n",
       "  'Sandra',\n",
       "  'journeyed',\n",
       "  'to',\n",
       "  'the',\n",
       "  'bedroom',\n",
       "  '.'],\n",
       " ['Is', 'Sandra', 'in', 'the', 'hallway', '?'],\n",
       " 'no')"
      ]
     },
     "execution_count": 8,
     "metadata": {},
     "output_type": "execute_result"
    }
   ],
   "source": [
    "train_data[0] #Story,question,answer"
   ]
  },
  {
   "cell_type": "code",
   "execution_count": 9,
   "metadata": {},
   "outputs": [
    {
     "data": {
      "text/plain": [
       "'Mary moved to the bathroom . Sandra journeyed to the bedroom .'"
      ]
     },
     "execution_count": 9,
     "metadata": {},
     "output_type": "execute_result"
    }
   ],
   "source": [
    "' '.join(train_data[0][0])"
   ]
  },
  {
   "cell_type": "code",
   "execution_count": 10,
   "metadata": {},
   "outputs": [
    {
     "data": {
      "text/plain": [
       "'Is John in the kitchen ?'"
      ]
     },
     "execution_count": 10,
     "metadata": {},
     "output_type": "execute_result"
    }
   ],
   "source": [
    "' '.join(test_data[0][1])"
   ]
  },
  {
   "cell_type": "code",
   "execution_count": 11,
   "metadata": {},
   "outputs": [
    {
     "data": {
      "text/plain": [
       "'no'"
      ]
     },
     "execution_count": 11,
     "metadata": {},
     "output_type": "execute_result"
    }
   ],
   "source": [
    "train_data[0][2]\n"
   ]
  },
  {
   "cell_type": "code",
   "execution_count": 12,
   "metadata": {},
   "outputs": [],
   "source": [
    "all_data = train_data + test_data"
   ]
  },
  {
   "cell_type": "code",
   "execution_count": 13,
   "metadata": {},
   "outputs": [
    {
     "data": {
      "text/plain": [
       "{'.',\n",
       " 'Mary',\n",
       " 'Sandra',\n",
       " 'bathroom',\n",
       " 'bedroom',\n",
       " 'journeyed',\n",
       " 'moved',\n",
       " 'the',\n",
       " 'to'}"
      ]
     },
     "execution_count": 13,
     "metadata": {},
     "output_type": "execute_result"
    }
   ],
   "source": [
    "set(train_data[0][0])"
   ]
  },
  {
   "cell_type": "code",
   "execution_count": 14,
   "metadata": {},
   "outputs": [],
   "source": [
    "vocab = set()\n",
    "\n",
    "for story,question,answer in all_data:\n",
    "    vocab=vocab.union(set(story))\n",
    "    vocab=vocab.union(set(question))\n"
   ]
  },
  {
   "cell_type": "code",
   "execution_count": 15,
   "metadata": {},
   "outputs": [],
   "source": [
    "vocab.add('no')"
   ]
  },
  {
   "cell_type": "code",
   "execution_count": 16,
   "metadata": {},
   "outputs": [],
   "source": [
    "vocab.add('yes')"
   ]
  },
  {
   "cell_type": "code",
   "execution_count": 17,
   "metadata": {},
   "outputs": [],
   "source": [
    "vocab_len = len(vocab)+ 1"
   ]
  },
  {
   "cell_type": "code",
   "execution_count": 18,
   "metadata": {},
   "outputs": [
    {
     "data": {
      "text/plain": [
       "38"
      ]
     },
     "execution_count": 18,
     "metadata": {},
     "output_type": "execute_result"
    }
   ],
   "source": [
    "vocab_len"
   ]
  },
  {
   "cell_type": "code",
   "execution_count": 19,
   "metadata": {},
   "outputs": [
    {
     "data": {
      "text/plain": [
       "['Mary',\n",
       " 'moved',\n",
       " 'to',\n",
       " 'the',\n",
       " 'bathroom',\n",
       " '.',\n",
       " 'Sandra',\n",
       " 'journeyed',\n",
       " 'to',\n",
       " 'the',\n",
       " 'bedroom',\n",
       " '.']"
      ]
     },
     "execution_count": 19,
     "metadata": {},
     "output_type": "execute_result"
    }
   ],
   "source": [
    "all_data[0][0]"
   ]
  },
  {
   "cell_type": "code",
   "execution_count": 20,
   "metadata": {},
   "outputs": [
    {
     "data": {
      "text/plain": [
       "[12,\n",
       " 26,\n",
       " 39,\n",
       " 52,\n",
       " 64,\n",
       " 12,\n",
       " 24,\n",
       " 36,\n",
       " 49,\n",
       " 61,\n",
       " 13,\n",
       " 25,\n",
       " 38,\n",
       " 50,\n",
       " 63,\n",
       " 13,\n",
       " 25,\n",
       " 37,\n",
       " 49,\n",
       " 61,\n",
       " 24,\n",
       " 37,\n",
       " 48,\n",
       " 71,\n",
       " 83,\n",
       " 13,\n",
       " 25,\n",
       " 37,\n",
       " 50,\n",
       " 62,\n",
       " 12,\n",
       " 24,\n",
       " 35,\n",
       " 46,\n",
       " 71,\n",
       " 12,\n",
       " 24,\n",
       " 37,\n",
       " 50,\n",
       " 62,\n",
       " 13,\n",
       " 25,\n",
       " 38,\n",
       " 50,\n",
       " 62,\n",
       " 12,\n",
       " 24,\n",
       " 36,\n",
       " 48,\n",
       " 60,\n",
       " 13,\n",
       " 25,\n",
       " 39,\n",
       " 50,\n",
       " 62,\n",
       " 13,\n",
       " 26,\n",
       " 38,\n",
       " 49,\n",
       " 60,\n",
       " 12,\n",
       " 24,\n",
       " 36,\n",
       " 49,\n",
       " 61,\n",
       " 13,\n",
       " 26,\n",
       " 39,\n",
       " 51,\n",
       " 62,\n",
       " 13,\n",
       " 25,\n",
       " 38,\n",
       " 52,\n",
       " 65,\n",
       " 12,\n",
       " 24,\n",
       " 37,\n",
       " 48,\n",
       " 61,\n",
       " 13,\n",
       " 25,\n",
       " 38,\n",
       " 51,\n",
       " 64,\n",
       " 12,\n",
       " 25,\n",
       " 39,\n",
       " 53,\n",
       " 65,\n",
       " 12,\n",
       " 24,\n",
       " 36,\n",
       " 48,\n",
       " 60,\n",
       " 12,\n",
       " 24,\n",
       " 36,\n",
       " 49,\n",
       " 61,\n",
       " 12,\n",
       " 25,\n",
       " 38,\n",
       " 50,\n",
       " 61,\n",
       " 25,\n",
       " 37,\n",
       " 49,\n",
       " 60,\n",
       " 72,\n",
       " 13,\n",
       " 25,\n",
       " 36,\n",
       " 48,\n",
       " 60,\n",
       " 12,\n",
       " 24,\n",
       " 36,\n",
       " 48,\n",
       " 60,\n",
       " 12,\n",
       " 23,\n",
       " 36,\n",
       " 47,\n",
       " 59,\n",
       " 12,\n",
       " 24,\n",
       " 35,\n",
       " 48,\n",
       " 61,\n",
       " 12,\n",
       " 23,\n",
       " 36,\n",
       " 49,\n",
       " 62,\n",
       " 12,\n",
       " 25,\n",
       " 37,\n",
       " 48,\n",
       " 59,\n",
       " 12,\n",
       " 25,\n",
       " 37,\n",
       " 49,\n",
       " 60,\n",
       " 12,\n",
       " 24,\n",
       " 36,\n",
       " 49,\n",
       " 61,\n",
       " 12,\n",
       " 25,\n",
       " 37,\n",
       " 49,\n",
       " 61,\n",
       " 12,\n",
       " 24,\n",
       " 37,\n",
       " 49,\n",
       " 60,\n",
       " 12,\n",
       " 25,\n",
       " 38,\n",
       " 50,\n",
       " 61,\n",
       " 12,\n",
       " 24,\n",
       " 36,\n",
       " 49,\n",
       " 61,\n",
       " 12,\n",
       " 24,\n",
       " 35,\n",
       " 48,\n",
       " 61,\n",
       " 12,\n",
       " 25,\n",
       " 37,\n",
       " 49,\n",
       " 62,\n",
       " 12,\n",
       " 24,\n",
       " 38,\n",
       " 50,\n",
       " 62,\n",
       " 12,\n",
       " 25,\n",
       " 38,\n",
       " 50,\n",
       " 62,\n",
       " 12,\n",
       " 24,\n",
       " 36,\n",
       " 48,\n",
       " 60,\n",
       " 12,\n",
       " 24,\n",
       " 36,\n",
       " 49,\n",
       " 60,\n",
       " 13,\n",
       " 25,\n",
       " 38,\n",
       " 50,\n",
       " 63,\n",
       " 12,\n",
       " 24,\n",
       " 36,\n",
       " 47,\n",
       " 60,\n",
       " 13,\n",
       " 25,\n",
       " 36,\n",
       " 49,\n",
       " 61,\n",
       " 13,\n",
       " 25,\n",
       " 36,\n",
       " 49,\n",
       " 61,\n",
       " 13,\n",
       " 24,\n",
       " 36,\n",
       " 49,\n",
       " 61,\n",
       " 12,\n",
       " 24,\n",
       " 38,\n",
       " 49,\n",
       " 60,\n",
       " 13,\n",
       " 25,\n",
       " 38,\n",
       " 51,\n",
       " 63,\n",
       " 24,\n",
       " 38,\n",
       " 50,\n",
       " 62,\n",
       " 73,\n",
       " 12,\n",
       " 24,\n",
       " 37,\n",
       " 49,\n",
       " 62,\n",
       " 12,\n",
       " 24,\n",
       " 37,\n",
       " 51,\n",
       " 63,\n",
       " 12,\n",
       " 24,\n",
       " 36,\n",
       " 48,\n",
       " 60,\n",
       " 12,\n",
       " 23,\n",
       " 34,\n",
       " 47,\n",
       " 59,\n",
       " 13,\n",
       " 26,\n",
       " 38,\n",
       " 49,\n",
       " 60,\n",
       " 12,\n",
       " 23,\n",
       " 37,\n",
       " 49,\n",
       " 63,\n",
       " 12,\n",
       " 25,\n",
       " 37,\n",
       " 49,\n",
       " 61,\n",
       " 26,\n",
       " 38,\n",
       " 50,\n",
       " 61,\n",
       " 74,\n",
       " 12,\n",
       " 24,\n",
       " 37,\n",
       " 48,\n",
       " 60,\n",
       " 13,\n",
       " 25,\n",
       " 38,\n",
       " 50,\n",
       " 62,\n",
       " 12,\n",
       " 24,\n",
       " 37,\n",
       " 50,\n",
       " 62,\n",
       " 24,\n",
       " 36,\n",
       " 48,\n",
       " 59,\n",
       " 71,\n",
       " 13,\n",
       " 25,\n",
       " 38,\n",
       " 51,\n",
       " 64,\n",
       " 24,\n",
       " 36,\n",
       " 48,\n",
       " 59,\n",
       " 71,\n",
       " 12,\n",
       " 24,\n",
       " 36,\n",
       " 49,\n",
       " 62,\n",
       " 107,\n",
       " 119,\n",
       " 131,\n",
       " 143,\n",
       " 156,\n",
       " 12,\n",
       " 26,\n",
       " 38,\n",
       " 50,\n",
       " 62,\n",
       " 12,\n",
       " 24,\n",
       " 36,\n",
       " 49,\n",
       " 61,\n",
       " 12,\n",
       " 23,\n",
       " 35,\n",
       " 47,\n",
       " 58,\n",
       " 12,\n",
       " 24,\n",
       " 36,\n",
       " 48,\n",
       " 62,\n",
       " 13,\n",
       " 26,\n",
       " 38,\n",
       " 49,\n",
       " 61,\n",
       " 13,\n",
       " 24,\n",
       " 36,\n",
       " 50,\n",
       " 63,\n",
       " 13,\n",
       " 26,\n",
       " 39,\n",
       " 50,\n",
       " 63,\n",
       " 13,\n",
       " 26,\n",
       " 38,\n",
       " 52,\n",
       " 64,\n",
       " 12,\n",
       " 24,\n",
       " 37,\n",
       " 50,\n",
       " 62,\n",
       " 13,\n",
       " 26,\n",
       " 39,\n",
       " 50,\n",
       " 62,\n",
       " 12,\n",
       " 25,\n",
       " 37,\n",
       " 50,\n",
       " 62,\n",
       " 13,\n",
       " 25,\n",
       " 39,\n",
       " 50,\n",
       " 63,\n",
       " 12,\n",
       " 25,\n",
       " 38,\n",
       " 49,\n",
       " 61,\n",
       " 23,\n",
       " 35,\n",
       " 47,\n",
       " 58,\n",
       " 70,\n",
       " 13,\n",
       " 24,\n",
       " 36,\n",
       " 48,\n",
       " 59,\n",
       " 24,\n",
       " 36,\n",
       " 49,\n",
       " 62,\n",
       " 74,\n",
       " 25,\n",
       " 37,\n",
       " 49,\n",
       " 61,\n",
       " 74,\n",
       " 13,\n",
       " 25,\n",
       " 37,\n",
       " 49,\n",
       " 61,\n",
       " 12,\n",
       " 25,\n",
       " 37,\n",
       " 50,\n",
       " 63,\n",
       " 12,\n",
       " 24,\n",
       " 35,\n",
       " 49,\n",
       " 73,\n",
       " 13,\n",
       " 25,\n",
       " 37,\n",
       " 50,\n",
       " 62,\n",
       " 12,\n",
       " 24,\n",
       " 36,\n",
       " 48,\n",
       " 60,\n",
       " 12,\n",
       " 24,\n",
       " 37,\n",
       " 49,\n",
       " 62,\n",
       " 13,\n",
       " 25,\n",
       " 38,\n",
       " 49,\n",
       " 61,\n",
       " 12,\n",
       " 25,\n",
       " 36,\n",
       " 48,\n",
       " 61,\n",
       " 12,\n",
       " 25,\n",
       " 37,\n",
       " 49,\n",
       " 61,\n",
       " 12,\n",
       " 25,\n",
       " 39,\n",
       " 52,\n",
       " 64,\n",
       " 13,\n",
       " 25,\n",
       " 37,\n",
       " 49,\n",
       " 61,\n",
       " 13,\n",
       " 25,\n",
       " 37,\n",
       " 49,\n",
       " 62,\n",
       " 12,\n",
       " 24,\n",
       " 37,\n",
       " 49,\n",
       " 60,\n",
       " 25,\n",
       " 36,\n",
       " 48,\n",
       " 59,\n",
       " 72,\n",
       " 12,\n",
       " 24,\n",
       " 37,\n",
       " 48,\n",
       " 61,\n",
       " 13,\n",
       " 26,\n",
       " 38,\n",
       " 49,\n",
       " 63,\n",
       " 12,\n",
       " 24,\n",
       " 36,\n",
       " 48,\n",
       " 60,\n",
       " 13,\n",
       " 24,\n",
       " 36,\n",
       " 48,\n",
       " 60,\n",
       " 12,\n",
       " 24,\n",
       " 36,\n",
       " 48,\n",
       " 61,\n",
       " 13,\n",
       " 25,\n",
       " 38,\n",
       " 50,\n",
       " 63,\n",
       " 12,\n",
       " 23,\n",
       " 35,\n",
       " 47,\n",
       " 59,\n",
       " 23,\n",
       " 36,\n",
       " 47,\n",
       " 59,\n",
       " 72,\n",
       " 12,\n",
       " 24,\n",
       " 36,\n",
       " 49,\n",
       " 62,\n",
       " 14,\n",
       " 25,\n",
       " 37,\n",
       " 49,\n",
       " 61,\n",
       " 12,\n",
       " 24,\n",
       " 37,\n",
       " 51,\n",
       " 64,\n",
       " 12,\n",
       " 24,\n",
       " 37,\n",
       " 49,\n",
       " 61,\n",
       " 14,\n",
       " 26,\n",
       " 38,\n",
       " 50,\n",
       " 61,\n",
       " 12,\n",
       " 25,\n",
       " 36,\n",
       " 47,\n",
       " 59,\n",
       " 12,\n",
       " 24,\n",
       " 38,\n",
       " 51,\n",
       " 63,\n",
       " 12,\n",
       " 24,\n",
       " 36,\n",
       " 49,\n",
       " 60,\n",
       " 13,\n",
       " 26,\n",
       " 38,\n",
       " 50,\n",
       " 62,\n",
       " 12,\n",
       " 24,\n",
       " 36,\n",
       " 49,\n",
       " 61,\n",
       " 12,\n",
       " 24,\n",
       " 36,\n",
       " 49,\n",
       " 61,\n",
       " 12,\n",
       " 25,\n",
       " 37,\n",
       " 50,\n",
       " 62,\n",
       " 12,\n",
       " 25,\n",
       " 38,\n",
       " 50,\n",
       " 60,\n",
       " 12,\n",
       " 24,\n",
       " 35,\n",
       " 46,\n",
       " 58,\n",
       " 12,\n",
       " 24,\n",
       " 37,\n",
       " 49,\n",
       " 62,\n",
       " 12,\n",
       " 25,\n",
       " 37,\n",
       " 50,\n",
       " 63,\n",
       " 13,\n",
       " 25,\n",
       " 37,\n",
       " 49,\n",
       " 59,\n",
       " 13,\n",
       " 25,\n",
       " 37,\n",
       " 50,\n",
       " 63,\n",
       " 12,\n",
       " 24,\n",
       " 36,\n",
       " 48,\n",
       " 62,\n",
       " 12,\n",
       " 25,\n",
       " 37,\n",
       " 50,\n",
       " 62,\n",
       " 14,\n",
       " 27,\n",
       " 40,\n",
       " 53,\n",
       " 66,\n",
       " 12,\n",
       " 25,\n",
       " 37,\n",
       " 49,\n",
       " 61,\n",
       " 35,\n",
       " 46,\n",
       " 59,\n",
       " 71,\n",
       " 84,\n",
       " 12,\n",
       " 24,\n",
       " 36,\n",
       " 48,\n",
       " 60,\n",
       " 13,\n",
       " 25,\n",
       " 37,\n",
       " 50,\n",
       " 64,\n",
       " 12,\n",
       " 25,\n",
       " 36,\n",
       " 47,\n",
       " 59,\n",
       " 12,\n",
       " 24,\n",
       " 36,\n",
       " 49,\n",
       " 61,\n",
       " 23,\n",
       " 35,\n",
       " 47,\n",
       " 59,\n",
       " 71,\n",
       " 12,\n",
       " 25,\n",
       " 37,\n",
       " 49,\n",
       " 61,\n",
       " 13,\n",
       " 26,\n",
       " 38,\n",
       " 49,\n",
       " 61,\n",
       " 12,\n",
       " 24,\n",
       " 37,\n",
       " 49,\n",
       " 61,\n",
       " 12,\n",
       " 24,\n",
       " 36,\n",
       " 48,\n",
       " 60,\n",
       " 13,\n",
       " 24,\n",
       " 36,\n",
       " 48,\n",
       " 59,\n",
       " 13,\n",
       " 25,\n",
       " 36,\n",
       " 48,\n",
       " 61,\n",
       " 12,\n",
       " 25,\n",
       " 37,\n",
       " 49,\n",
       " 61,\n",
       " 12,\n",
       " 24,\n",
       " 36,\n",
       " 48,\n",
       " 60,\n",
       " 13,\n",
       " 26,\n",
       " 37,\n",
       " 49,\n",
       " 61,\n",
       " 12,\n",
       " 25,\n",
       " 37,\n",
       " 49,\n",
       " 60,\n",
       " 25,\n",
       " 37,\n",
       " 49,\n",
       " 60,\n",
       " 72,\n",
       " 14,\n",
       " 27,\n",
       " 39,\n",
       " 51,\n",
       " 63,\n",
       " 13,\n",
       " 26,\n",
       " 37,\n",
       " 48,\n",
       " 61,\n",
       " 12,\n",
       " 25,\n",
       " 37,\n",
       " 50,\n",
       " 62,\n",
       " 14,\n",
       " 26,\n",
       " 38,\n",
       " 50,\n",
       " 63,\n",
       " 13,\n",
       " 25,\n",
       " 37,\n",
       " 50,\n",
       " 61,\n",
       " 13,\n",
       " 25,\n",
       " 36,\n",
       " 49,\n",
       " 62,\n",
       " 12,\n",
       " 24,\n",
       " 35,\n",
       " 47,\n",
       " 60,\n",
       " 12,\n",
       " 23,\n",
       " 35,\n",
       " 48,\n",
       " 60,\n",
       " 12,\n",
       " 24,\n",
       " 36,\n",
       " 49,\n",
       " 61,\n",
       " 24,\n",
       " 36,\n",
       " 48,\n",
       " 60,\n",
       " 72,\n",
       " 13,\n",
       " 26,\n",
       " 39,\n",
       " 51,\n",
       " 63,\n",
       " 13,\n",
       " 25,\n",
       " 38,\n",
       " 50,\n",
       " 74,\n",
       " 12,\n",
       " 24,\n",
       " 36,\n",
       " 49,\n",
       " 61,\n",
       " 12,\n",
       " 24,\n",
       " 36,\n",
       " 47,\n",
       " 59,\n",
       " 14,\n",
       " 26,\n",
       " 39,\n",
       " 52,\n",
       " 64,\n",
       " 12,\n",
       " 25,\n",
       " 37,\n",
       " 49,\n",
       " 61,\n",
       " 12,\n",
       " 26,\n",
       " 39,\n",
       " 51,\n",
       " 61,\n",
       " 24,\n",
       " 36,\n",
       " 47,\n",
       " 60,\n",
       " 72,\n",
       " 13,\n",
       " 25,\n",
       " 37,\n",
       " 50,\n",
       " 63,\n",
       " 24,\n",
       " 36,\n",
       " 48,\n",
       " 60,\n",
       " 72,\n",
       " 12,\n",
       " 24,\n",
       " 36,\n",
       " 48,\n",
       " 60,\n",
       " 12,\n",
       " 25,\n",
       " 37,\n",
       " 49,\n",
       " 61,\n",
       " 13,\n",
       " 25,\n",
       " 37,\n",
       " 48,\n",
       " 61,\n",
       " 12,\n",
       " 24,\n",
       " 36,\n",
       " 48,\n",
       " 61,\n",
       " 13,\n",
       " 25,\n",
       " 36,\n",
       " 48,\n",
       " 60,\n",
       " 13,\n",
       " 25,\n",
       " 37,\n",
       " 50,\n",
       " 62,\n",
       " 12,\n",
       " 25,\n",
       " 37,\n",
       " 50,\n",
       " 63,\n",
       " 12,\n",
       " 24,\n",
       " 38,\n",
       " 50,\n",
       " 62,\n",
       " 12,\n",
       " 24,\n",
       " 36,\n",
       " 48,\n",
       " 61,\n",
       " 12,\n",
       " 24,\n",
       " 37,\n",
       " 50,\n",
       " 63,\n",
       " 12,\n",
       " 24,\n",
       " 35,\n",
       " 47,\n",
       " 60,\n",
       " 23,\n",
       " 36,\n",
       " 49,\n",
       " 61,\n",
       " 73,\n",
       " 12,\n",
       " 24,\n",
       " 37,\n",
       " 49,\n",
       " 62,\n",
       " 13,\n",
       " 25,\n",
       " 37,\n",
       " 50,\n",
       " 63,\n",
       " 13,\n",
       " 25,\n",
       " 37,\n",
       " 50,\n",
       " 63,\n",
       " 13,\n",
       " 25,\n",
       " 38,\n",
       " 50,\n",
       " 62,\n",
       " 13,\n",
       " 25,\n",
       " 37,\n",
       " 49,\n",
       " 62,\n",
       " 12,\n",
       " 24,\n",
       " 37,\n",
       " 49,\n",
       " 60,\n",
       " 13,\n",
       " 26,\n",
       " 39,\n",
       " 51,\n",
       " 63,\n",
       " 13,\n",
       " 26,\n",
       " 40,\n",
       " 52,\n",
       " 63,\n",
       " 12,\n",
       " 23,\n",
       " 36,\n",
       " 48,\n",
       " 61,\n",
       " 13,\n",
       " 26,\n",
       " 38,\n",
       " 50,\n",
       " 62,\n",
       " 12,\n",
       " 23,\n",
       " 37,\n",
       " 50,\n",
       " 63,\n",
       " 25,\n",
       " 38,\n",
       " 51,\n",
       " 63,\n",
       " 75,\n",
       " 26,\n",
       " 39,\n",
       " 51,\n",
       " 63,\n",
       " 76,\n",
       " 12,\n",
       " 24,\n",
       " 37,\n",
       " 50,\n",
       " 62,\n",
       " 12,\n",
       " 24,\n",
       " 36,\n",
       " 49,\n",
       " 61,\n",
       " 12,\n",
       " 24,\n",
       " 36,\n",
       " 48,\n",
       " 59,\n",
       " 13,\n",
       " 25,\n",
       " 36,\n",
       " 48,\n",
       " 60,\n",
       " 12,\n",
       " 25,\n",
       " 37,\n",
       " 48,\n",
       " 60,\n",
       " 12,\n",
       " 24,\n",
       " 36,\n",
       " 47,\n",
       " 59,\n",
       " 12,\n",
       " 24,\n",
       " 36,\n",
       " 49,\n",
       " 63,\n",
       " 12,\n",
       " 24,\n",
       " 37,\n",
       " 49,\n",
       " 61,\n",
       " 13,\n",
       " 25,\n",
       " 37,\n",
       " 49,\n",
       " 61,\n",
       " 13,\n",
       " 25,\n",
       " 37,\n",
       " 48,\n",
       " 61,\n",
       " 12,\n",
       " 24,\n",
       " 36,\n",
       " 47,\n",
       " 60,\n",
       " 12,\n",
       " 25,\n",
       " 36,\n",
       " 49,\n",
       " 61,\n",
       " 12,\n",
       " 23,\n",
       " 35,\n",
       " 47,\n",
       " 60,\n",
       " ...]"
      ]
     },
     "execution_count": 20,
     "metadata": {},
     "output_type": "execute_result"
    }
   ],
   "source": [
    "all_story_lens = [len(data[0]) for data in all_data]\n",
    "all_story_lens\n"
   ]
  },
  {
   "cell_type": "code",
   "execution_count": 22,
   "metadata": {},
   "outputs": [],
   "source": [
    "max_story_len = max(all_story_lens)"
   ]
  },
  {
   "cell_type": "code",
   "execution_count": 23,
   "metadata": {},
   "outputs": [],
   "source": [
    "max_question_len = max([len(data[1]) for data in all_data])"
   ]
  },
  {
   "cell_type": "code",
   "execution_count": 24,
   "metadata": {},
   "outputs": [
    {
     "data": {
      "text/plain": [
       "6"
      ]
     },
     "execution_count": 24,
     "metadata": {},
     "output_type": "execute_result"
    }
   ],
   "source": [
    "max_question_len"
   ]
  },
  {
   "cell_type": "code",
   "execution_count": 25,
   "metadata": {},
   "outputs": [
    {
     "name": "stderr",
     "output_type": "stream",
     "text": [
      "Using TensorFlow backend.\n"
     ]
    }
   ],
   "source": [
    "from keras.preprocessing.sequence import pad_sequences\n",
    "from keras.preprocessing.text import Tokenizer\n"
   ]
  },
  {
   "cell_type": "code",
   "execution_count": 26,
   "metadata": {},
   "outputs": [],
   "source": [
    "tokenizer = Tokenizer(filters=[])"
   ]
  },
  {
   "cell_type": "code",
   "execution_count": 27,
   "metadata": {},
   "outputs": [],
   "source": [
    "tokenizer.fit_on_texts(vocab)"
   ]
  },
  {
   "cell_type": "code",
   "execution_count": 28,
   "metadata": {},
   "outputs": [
    {
     "data": {
      "text/plain": [
       "{'moved': 1,\n",
       " 'to': 2,\n",
       " 'in': 3,\n",
       " 'down': 4,\n",
       " 'dropped': 5,\n",
       " 'discarded': 6,\n",
       " 'kitchen': 7,\n",
       " 'hallway': 8,\n",
       " 'mary': 9,\n",
       " '.': 10,\n",
       " 'up': 11,\n",
       " 'garden': 12,\n",
       " 'put': 13,\n",
       " 'grabbed': 14,\n",
       " 'got': 15,\n",
       " 'office': 16,\n",
       " 'is': 17,\n",
       " 'back': 18,\n",
       " 'went': 19,\n",
       " 'football': 20,\n",
       " 'there': 21,\n",
       " 'took': 22,\n",
       " 'journeyed': 23,\n",
       " 'travelled': 24,\n",
       " 'apple': 25,\n",
       " 'daniel': 26,\n",
       " 'john': 27,\n",
       " 'bedroom': 28,\n",
       " 'yes': 29,\n",
       " 'the': 30,\n",
       " 'left': 31,\n",
       " '?': 32,\n",
       " 'milk': 33,\n",
       " 'picked': 34,\n",
       " 'sandra': 35,\n",
       " 'no': 36,\n",
       " 'bathroom': 37}"
      ]
     },
     "execution_count": 28,
     "metadata": {},
     "output_type": "execute_result"
    }
   ],
   "source": [
    "tokenizer.word_index"
   ]
  },
  {
   "cell_type": "code",
   "execution_count": 29,
   "metadata": {},
   "outputs": [],
   "source": [
    "train_story_text = []\n",
    "train_question_text = []\n",
    "train_answers = []\n"
   ]
  },
  {
   "cell_type": "code",
   "execution_count": 30,
   "metadata": {},
   "outputs": [],
   "source": [
    "for story,question,answer in train_data:\n",
    "    train_story_text.append(story)\n",
    "    train_question_text.append(question)\n",
    "    train_answers. append(answer)\n"
   ]
  },
  {
   "cell_type": "code",
   "execution_count": 31,
   "metadata": {},
   "outputs": [],
   "source": [
    "# train_story_text\n",
    "\n",
    "train_story_seq = tokenizer.texts_to_sequences(train_story_text)\n"
   ]
  },
  {
   "cell_type": "code",
   "execution_count": 32,
   "metadata": {},
   "outputs": [
    {
     "data": {
      "text/plain": [
       "10000"
      ]
     },
     "execution_count": 32,
     "metadata": {},
     "output_type": "execute_result"
    }
   ],
   "source": [
    "len(train_story_seq)"
   ]
  },
  {
   "cell_type": "code",
   "execution_count": 33,
   "metadata": {},
   "outputs": [],
   "source": [
    "# len(train_seq_text)"
   ]
  },
  {
   "cell_type": "code",
   "execution_count": 34,
   "metadata": {},
   "outputs": [],
   "source": [
    "def vectorize_stories(data,word_index = tokenizer.word_index,max_story_len = max_story_len, max_question_len = max_question_len):\n",
    "    X = []\n",
    "    Xq = []\n",
    "    # Y CORRECT ANSWER(yes/no)\n",
    "    Y = []\n",
    "    for story,query,answer in data:\n",
    "        x = [word_index[word.lower()] for word in story]\n",
    "        xq = [word_index[word.lower()] for word in query]\n",
    "        y = np.zeros(len(word_index)+1)\n",
    "        y[word_index[answer]]=1\n",
    "        X.append(x)\n",
    "        Xq.append(xq)\n",
    "        Y.append(y)\n",
    "    return(pad_sequences(X,maxlen=max_story_len),pad_sequences(Xq,maxlen=max_question_len),np.array(Y))\n",
    "\n"
   ]
  },
  {
   "cell_type": "code",
   "execution_count": 35,
   "metadata": {},
   "outputs": [],
   "source": [
    "inputs_train,queries_train,answers_train = vectorize_stories(train_data)"
   ]
  },
  {
   "cell_type": "code",
   "execution_count": 36,
   "metadata": {},
   "outputs": [],
   "source": [
    "inputs_test,queries_test,answers_test = vectorize_stories(test_data)"
   ]
  },
  {
   "cell_type": "code",
   "execution_count": 37,
   "metadata": {},
   "outputs": [
    {
     "data": {
      "text/plain": [
       "array([[ 0,  0,  0, ..., 30, 28, 10],\n",
       "       [ 0,  0,  0, ..., 30, 12, 10],\n",
       "       [ 0,  0,  0, ..., 30, 12, 10],\n",
       "       ...,\n",
       "       [ 0,  0,  0, ..., 30, 25, 10],\n",
       "       [ 0,  0,  0, ..., 30, 12, 10],\n",
       "       [ 0,  0,  0, ..., 25, 21, 10]])"
      ]
     },
     "execution_count": 37,
     "metadata": {},
     "output_type": "execute_result"
    }
   ],
   "source": [
    "inputs_test"
   ]
  },
  {
   "cell_type": "code",
   "execution_count": 38,
   "metadata": {},
   "outputs": [
    {
     "data": {
      "text/plain": [
       "array([[0., 0., 0., ..., 0., 1., 0.],\n",
       "       [0., 0., 0., ..., 0., 1., 0.],\n",
       "       [0., 0., 0., ..., 0., 0., 0.],\n",
       "       ...,\n",
       "       [0., 0., 0., ..., 0., 1., 0.],\n",
       "       [0., 0., 0., ..., 0., 0., 0.],\n",
       "       [0., 0., 0., ..., 0., 0., 0.]])"
      ]
     },
     "execution_count": 38,
     "metadata": {},
     "output_type": "execute_result"
    }
   ],
   "source": [
    "answers_test"
   ]
  },
  {
   "cell_type": "code",
   "execution_count": 39,
   "metadata": {},
   "outputs": [
    {
     "data": {
      "text/plain": [
       "29"
      ]
     },
     "execution_count": 39,
     "metadata": {},
     "output_type": "execute_result"
    }
   ],
   "source": [
    "tokenizer.word_index['yes']"
   ]
  },
  {
   "cell_type": "code",
   "execution_count": 40,
   "metadata": {},
   "outputs": [
    {
     "data": {
      "text/plain": [
       "36"
      ]
     },
     "execution_count": 40,
     "metadata": {},
     "output_type": "execute_result"
    }
   ],
   "source": [
    "tokenizer.word_index['no']"
   ]
  },
  {
   "cell_type": "code",
   "execution_count": 41,
   "metadata": {},
   "outputs": [
    {
     "data": {
      "text/plain": [
       "array([  0.,   0.,   0.,   0.,   0.,   0.,   0.,   0.,   0.,   0.,   0.,\n",
       "         0.,   0.,   0.,   0.,   0.,   0.,   0.,   0.,   0.,   0.,   0.,\n",
       "         0.,   0.,   0.,   0.,   0.,   0.,   0., 497.,   0.,   0.,   0.,\n",
       "         0.,   0.,   0., 503.,   0.])"
      ]
     },
     "execution_count": 41,
     "metadata": {},
     "output_type": "execute_result"
    }
   ],
   "source": [
    "sum(answers_test)"
   ]
  },
  {
   "cell_type": "code",
   "execution_count": 42,
   "metadata": {},
   "outputs": [],
   "source": [
    "from tensorflow.python.keras.models import Sequential,Model\n",
    "from tensorflow.python.keras.layers.embeddings import Embedding\n",
    "from tensorflow.python.keras.layers import Input,Activation,Dense,Permute,Dropout,add,dot,concatenate,LSTM\n"
   ]
  },
  {
   "cell_type": "code",
   "execution_count": 43,
   "metadata": {},
   "outputs": [],
   "source": [
    "input_sequence = Input((max_story_len,))"
   ]
  },
  {
   "cell_type": "code",
   "execution_count": 44,
   "metadata": {},
   "outputs": [],
   "source": [
    "question = Input((max_question_len,))\n"
   ]
  },
  {
   "cell_type": "code",
   "execution_count": 45,
   "metadata": {},
   "outputs": [],
   "source": [
    "vocab_size = len(vocab)+1"
   ]
  },
  {
   "cell_type": "code",
   "execution_count": 46,
   "metadata": {},
   "outputs": [],
   "source": [
    "# INPUT ENCODER M\n",
    "input_encoder_m = Sequential()\n",
    "input_encoder_m.add(Embedding(input_dim=vocab_size,output_dim=64))\n",
    "input_encoder_m.add(Dropout(0.3))\n",
    "#(samples,story_maxlen,embedding_dim)\n"
   ]
  },
  {
   "cell_type": "code",
   "execution_count": 47,
   "metadata": {},
   "outputs": [],
   "source": [
    "# INPUT ENCODER C\n",
    "input_encoder_c = Sequential()\n",
    "input_encoder_c.add(Embedding(input_dim=vocab_size,output_dim=max_question_len))\n",
    "input_encoder_c.add(Dropout(0.3))\n",
    "#(samples,story_maxlen,embedding_dim)\n"
   ]
  },
  {
   "cell_type": "code",
   "execution_count": 48,
   "metadata": {},
   "outputs": [],
   "source": [
    "# ENCODED <---- ENCODER(INPU\n",
    "question_encoder = Sequential()\n",
    "question_encoder.add(Embedding(input_dim=vocab_size,output_dim=64,input_length=max_question_len))\n",
    "question_encoder.add(Dropout(0.3))\n",
    "\n",
    "#(samples,query_maxlen,embedding_dim)\n"
   ]
  },
  {
   "cell_type": "code",
   "execution_count": 49,
   "metadata": {},
   "outputs": [],
   "source": [
    "# INPUT ENCODER M\n",
    "input_encoded_m = input_encoder_m(input_sequence)\n",
    "input_encoded_c = input_encoder_c(input_sequence)\n",
    "question_encoded = question_encoder(question)\n",
    "#(samples,story_maxlen,embedding_dim)\n"
   ]
  },
  {
   "cell_type": "code",
   "execution_count": 50,
   "metadata": {},
   "outputs": [],
   "source": [
    "match = dot([input_encoded_m,question_encoded],axes=(2,2))"
   ]
  },
  {
   "cell_type": "code",
   "execution_count": 51,
   "metadata": {},
   "outputs": [],
   "source": [
    "match = Activation('softmax')(match)"
   ]
  },
  {
   "cell_type": "code",
   "execution_count": 52,
   "metadata": {},
   "outputs": [],
   "source": [
    "response = add([match,input_encoded_c])\n",
    "response = Permute((2,1))(response)\n"
   ]
  },
  {
   "cell_type": "code",
   "execution_count": 53,
   "metadata": {},
   "outputs": [],
   "source": [
    "answer = concatenate([response,question_encoded])"
   ]
  },
  {
   "cell_type": "code",
   "execution_count": 54,
   "metadata": {},
   "outputs": [
    {
     "data": {
      "text/plain": [
       "<tf.Tensor 'concatenate/Identity:0' shape=(None, 6, 220) dtype=float32>"
      ]
     },
     "execution_count": 54,
     "metadata": {},
     "output_type": "execute_result"
    }
   ],
   "source": [
    "answer"
   ]
  },
  {
   "cell_type": "code",
   "execution_count": 55,
   "metadata": {},
   "outputs": [],
   "source": [
    "answer = LSTM(32)(answer)"
   ]
  },
  {
   "cell_type": "code",
   "execution_count": 56,
   "metadata": {},
   "outputs": [],
   "source": [
    "answer = Dropout(0.5)(answer)"
   ]
  },
  {
   "cell_type": "code",
   "execution_count": 57,
   "metadata": {},
   "outputs": [],
   "source": [
    "answer = Dense(vocab_size)(answer)"
   ]
  },
  {
   "cell_type": "code",
   "execution_count": 58,
   "metadata": {},
   "outputs": [],
   "source": [
    "answer = Activation('softmax')(answer)"
   ]
  },
  {
   "cell_type": "code",
   "execution_count": 59,
   "metadata": {},
   "outputs": [],
   "source": [
    "model = Model([input_sequence,question],answer)"
   ]
  },
  {
   "cell_type": "code",
   "execution_count": 60,
   "metadata": {},
   "outputs": [],
   "source": [
    "model.compile(optimizer='rmsprop',loss= 'categorical_crossentropy', metrics = ['accuracy'])"
   ]
  },
  {
   "cell_type": "code",
   "execution_count": 61,
   "metadata": {},
   "outputs": [
    {
     "name": "stdout",
     "output_type": "stream",
     "text": [
      "Model: \"model\"\n",
      "__________________________________________________________________________________________________\n",
      "Layer (type)                    Output Shape         Param #     Connected to                     \n",
      "==================================================================================================\n",
      "input_1 (InputLayer)            [(None, 156)]        0                                            \n",
      "__________________________________________________________________________________________________\n",
      "input_2 (InputLayer)            [(None, 6)]          0                                            \n",
      "__________________________________________________________________________________________________\n",
      "sequential (Sequential)         multiple             2432        input_1[0][0]                    \n",
      "__________________________________________________________________________________________________\n",
      "sequential_2 (Sequential)       (None, 6, 64)        2432        input_2[0][0]                    \n",
      "__________________________________________________________________________________________________\n",
      "dot (Dot)                       (None, 156, 6)       0           sequential[1][0]                 \n",
      "                                                                 sequential_2[1][0]               \n",
      "__________________________________________________________________________________________________\n",
      "activation (Activation)         (None, 156, 6)       0           dot[0][0]                        \n",
      "__________________________________________________________________________________________________\n",
      "sequential_1 (Sequential)       multiple             228         input_1[0][0]                    \n",
      "__________________________________________________________________________________________________\n",
      "add (Add)                       (None, 156, 6)       0           activation[0][0]                 \n",
      "                                                                 sequential_1[1][0]               \n",
      "__________________________________________________________________________________________________\n",
      "permute (Permute)               (None, 6, 156)       0           add[0][0]                        \n",
      "__________________________________________________________________________________________________\n",
      "concatenate (Concatenate)       (None, 6, 220)       0           permute[0][0]                    \n",
      "                                                                 sequential_2[1][0]               \n",
      "__________________________________________________________________________________________________\n",
      "lstm (LSTM)                     (None, 32)           32384       concatenate[0][0]                \n",
      "__________________________________________________________________________________________________\n",
      "dropout_3 (Dropout)             (None, 32)           0           lstm[0][0]                       \n",
      "__________________________________________________________________________________________________\n",
      "dense (Dense)                   (None, 38)           1254        dropout_3[0][0]                  \n",
      "__________________________________________________________________________________________________\n",
      "activation_1 (Activation)       (None, 38)           0           dense[0][0]                      \n",
      "==================================================================================================\n",
      "Total params: 38,730\n",
      "Trainable params: 38,730\n",
      "Non-trainable params: 0\n",
      "__________________________________________________________________________________________________\n"
     ]
    }
   ],
   "source": [
    "model.summary()"
   ]
  },
  {
   "cell_type": "code",
   "execution_count": 69,
   "metadata": {},
   "outputs": [
    {
     "name": "stdout",
     "output_type": "stream",
     "text": [
      "Train on 10000 samples, validate on 1000 samples\n",
      "Epoch 1/10\n",
      "10000/10000 [==============================] - 11s 1ms/sample - loss: 0.6952 - accuracy: 0.4987 - val_loss: 0.6932 - val_accuracy: 0.4970\n",
      "Epoch 2/10\n",
      "10000/10000 [==============================] - 11s 1ms/sample - loss: 0.6950 - accuracy: 0.4954 - val_loss: 0.6934 - val_accuracy: 0.4970\n",
      "Epoch 3/10\n",
      "10000/10000 [==============================] - 11s 1ms/sample - loss: 0.6946 - accuracy: 0.4957 - val_loss: 0.6935 - val_accuracy: 0.5030\n",
      "Epoch 4/10\n",
      "10000/10000 [==============================] - 11s 1ms/sample - loss: 0.6945 - accuracy: 0.5008 - val_loss: 0.6943 - val_accuracy: 0.5030\n",
      "Epoch 5/10\n",
      "10000/10000 [==============================] - 11s 1ms/sample - loss: 0.6942 - accuracy: 0.5058 - val_loss: 0.6950 - val_accuracy: 0.4900\n",
      "Epoch 6/10\n",
      "10000/10000 [==============================] - 11s 1ms/sample - loss: 0.6942 - accuracy: 0.5046 - val_loss: 0.6980 - val_accuracy: 0.4970\n",
      "Epoch 7/10\n",
      "10000/10000 [==============================] - 11s 1ms/sample - loss: 0.6930 - accuracy: 0.5135 - val_loss: 0.6939 - val_accuracy: 0.4820\n",
      "Epoch 8/10\n",
      "10000/10000 [==============================] - 11s 1ms/sample - loss: 0.6869 - accuracy: 0.5402 - val_loss: 0.6852 - val_accuracy: 0.5370\n",
      "Epoch 9/10\n",
      "10000/10000 [==============================] - 11s 1ms/sample - loss: 0.6683 - accuracy: 0.5914 - val_loss: 0.6535 - val_accuracy: 0.6150\n",
      "Epoch 10/10\n",
      "10000/10000 [==============================] - 11s 1ms/sample - loss: 0.6518 - accuracy: 0.6147 - val_loss: 0.6408 - val_accuracy: 0.6450\n"
     ]
    }
   ],
   "source": [
    "history = model.fit([inputs_train, queries_train],answers_train,batch_size=32, epochs=10,validation_data=([inputs_test,queries_test], answers_test))\n"
   ]
  },
  {
   "cell_type": "code",
   "execution_count": 64,
   "metadata": {},
   "outputs": [],
   "source": [
    "filename = 'chatbot_120_epochs.h5'\n",
    "model.save(filename)\n"
   ]
  },
  {
   "cell_type": "code",
   "execution_count": 70,
   "metadata": {},
   "outputs": [
    {
     "name": "stdout",
     "output_type": "stream",
     "text": [
      "dict_keys(['loss', 'accuracy', 'val_loss', 'val_accuracy'])\n"
     ]
    },
    {
     "data": {
      "image/png": "[encoded data removed]",
      "text/plain": [
       "<Figure size 432x288 with 1 Axes>"
      ]
     },
     "metadata": {
      "needs_background": "light"
     },
     "output_type": "display_data"
    }
   ],
   "source": [
    "# Model Evaluation\n",
    "\n",
    "import matplotlib.pyplot as plt\n",
    "%matplotlib inline\n",
    "print(history.history.keys())\n",
    "# summarize history for accuracy\n",
    "plt.plot(history.history['accuracy'])\n",
    "plt.plot(history.history['val_accuracy'])\n",
    "plt.title('model accuracy')\n",
    "plt.ylabel('accuracy')\n",
    "plt.xlabel('epoch')\n",
    "plt.legend(['train', 'test'], loc='upper left')\n",
    "plt.show()\n"
   ]
  },
  {
   "cell_type": "code",
   "execution_count": 71,
   "metadata": {},
   "outputs": [],
   "source": [
    "# model.save('mybrandnewmodel.h5')"
   ]
  },
  {
   "cell_type": "code",
   "execution_count": 72,
   "metadata": {},
   "outputs": [],
   "source": [
    "model.load_weights('chatbot_10.h5')"
   ]
  },
  {
   "cell_type": "code",
   "execution_count": 73,
   "metadata": {},
   "outputs": [],
   "source": [
    "pred_results = model.predict(([inputs_test,queries_test]))"
   ]
  },
  {
   "cell_type": "code",
   "execution_count": 75,
   "metadata": {},
   "outputs": [
    {
     "data": {
      "text/plain": [
       "['Mary',\n",
       " 'got',\n",
       " 'the',\n",
       " 'milk',\n",
       " 'there',\n",
       " '.',\n",
       " 'John',\n",
       " 'moved',\n",
       " 'to',\n",
       " 'the',\n",
       " 'bedroom',\n",
       " '.']"
      ]
     },
     "execution_count": 75,
     "metadata": {},
     "output_type": "execute_result"
    }
   ],
   "source": [
    "test_data[0][0]"
   ]
  },
  {
   "cell_type": "code",
   "execution_count": 81,
   "metadata": {},
   "outputs": [
    {
     "data": {
      "text/plain": [
       "array([1.45221534e-11, 1.38111180e-11, 1.72948270e-11, 1.15634603e-11,\n",
       "       1.67721878e-11, 1.75598806e-11, 9.02904719e-02, 1.50383352e-11,\n",
       "       1.29005131e-11, 1.82500542e-11, 1.55014473e-11, 1.26861282e-11,\n",
       "       1.49233560e-11, 1.32554488e-11, 1.48429064e-11, 1.17185714e-11,\n",
       "       8.17323900e-12, 1.40914173e-11, 1.22140770e-11, 9.09709513e-01,\n",
       "       1.65924444e-11, 1.88044649e-11, 1.51151730e-11, 1.72970718e-11,\n",
       "       1.13251040e-11, 1.38964664e-11, 1.11547577e-11, 1.26686222e-11,\n",
       "       1.56941665e-11, 1.51452722e-11, 8.18715668e-12, 1.26868542e-11,\n",
       "       1.03792079e-11, 1.48415481e-11, 1.03204988e-11, 1.21216847e-11,\n",
       "       1.48622260e-11, 1.31780567e-11], dtype=float32)"
      ]
     },
     "execution_count": 81,
     "metadata": {},
     "output_type": "execute_result"
    }
   ],
   "source": [
    "pred_results[0]"
   ]
  },
  {
   "cell_type": "code",
   "execution_count": 78,
   "metadata": {},
   "outputs": [
    {
     "data": {
      "text/plain": [
       "['Is', 'John', 'in', 'the', 'kitchen', '?']"
      ]
     },
     "execution_count": 78,
     "metadata": {},
     "output_type": "execute_result"
    }
   ],
   "source": [
    "test_data[0][1]"
   ]
  },
  {
   "cell_type": "code",
   "execution_count": 79,
   "metadata": {},
   "outputs": [
    {
     "data": {
      "text/plain": [
       "'no'"
      ]
     },
     "execution_count": 79,
     "metadata": {},
     "output_type": "execute_result"
    }
   ],
   "source": [
    "test_data[0][2]"
   ]
  },
  {
   "cell_type": "code",
   "execution_count": 80,
   "metadata": {},
   "outputs": [],
   "source": [
    "val_max = np.argmax(pred_results[0])"
   ]
  },
  {
   "cell_type": "code",
   "execution_count": 82,
   "metadata": {},
   "outputs": [],
   "source": [
    "for key,val in tokenizer.word_index.items():\n",
    "    if val == val_max:\n",
    "        k = key"
   ]
  },
  {
   "cell_type": "code",
   "execution_count": 83,
   "metadata": {},
   "outputs": [
    {
     "data": {
      "text/plain": [
       "'went'"
      ]
     },
     "execution_count": 83,
     "metadata": {},
     "output_type": "execute_result"
    }
   ],
   "source": [
    "k"
   ]
  },
  {
   "cell_type": "code",
   "execution_count": 84,
   "metadata": {},
   "outputs": [
    {
     "data": {
      "text/plain": [
       "0.9097095"
      ]
     },
     "execution_count": 84,
     "metadata": {},
     "output_type": "execute_result"
    }
   ],
   "source": [
    "pred_results[0][val_max]"
   ]
  },
  {
   "cell_type": "code",
   "execution_count": 85,
   "metadata": {},
   "outputs": [
    {
     "data": {
      "text/plain": [
       "{'.',\n",
       " '?',\n",
       " 'Daniel',\n",
       " 'Is',\n",
       " 'John',\n",
       " 'Mary',\n",
       " 'Sandra',\n",
       " 'apple',\n",
       " 'back',\n",
       " 'bathroom',\n",
       " 'bedroom',\n",
       " 'discarded',\n",
       " 'down',\n",
       " 'dropped',\n",
       " 'football',\n",
       " 'garden',\n",
       " 'got',\n",
       " 'grabbed',\n",
       " 'hallway',\n",
       " 'in',\n",
       " 'journeyed',\n",
       " 'kitchen',\n",
       " 'left',\n",
       " 'milk',\n",
       " 'moved',\n",
       " 'no',\n",
       " 'office',\n",
       " 'picked',\n",
       " 'put',\n",
       " 'the',\n",
       " 'there',\n",
       " 'to',\n",
       " 'took',\n",
       " 'travelled',\n",
       " 'up',\n",
       " 'went',\n",
       " 'yes'}"
      ]
     },
     "execution_count": 85,
     "metadata": {},
     "output_type": "execute_result"
    }
   ],
   "source": [
    "vocab"
   ]
  },
  {
   "cell_type": "code",
   "execution_count": 100,
   "metadata": {},
   "outputs": [],
   "source": [
    "my_story = \"John left the kitchen . Sandra dropped the football in the garden .\""
   ]
  },
  {
   "cell_type": "code",
   "execution_count": 101,
   "metadata": {},
   "outputs": [
    {
     "data": {
      "text/plain": [
       "['John',\n",
       " 'left',\n",
       " 'the',\n",
       " 'kitchen',\n",
       " '.',\n",
       " 'Sandra',\n",
       " 'dropped',\n",
       " 'the',\n",
       " 'football',\n",
       " 'in',\n",
       " 'the',\n",
       " 'garden',\n",
       " '.']"
      ]
     },
     "execution_count": 101,
     "metadata": {},
     "output_type": "execute_result"
    }
   ],
   "source": [
    "my_story.split()"
   ]
  },
  {
   "cell_type": "code",
   "execution_count": 102,
   "metadata": {},
   "outputs": [],
   "source": [
    "my_question = \"Is the football in the garden ?\""
   ]
  },
  {
   "cell_type": "code",
   "execution_count": 103,
   "metadata": {},
   "outputs": [
    {
     "data": {
      "text/plain": [
       "['Is', 'the', 'football', 'in', 'the', 'garden', '?']"
      ]
     },
     "execution_count": 103,
     "metadata": {},
     "output_type": "execute_result"
    }
   ],
   "source": [
    "my_question.split()"
   ]
  },
  {
   "cell_type": "code",
   "execution_count": 104,
   "metadata": {},
   "outputs": [],
   "source": [
    "mydata = [(my_story.split(),my_question.split(),'yes')]"
   ]
  },
  {
   "cell_type": "code",
   "execution_count": 105,
   "metadata": {},
   "outputs": [
    {
     "data": {
      "text/plain": [
       "[(['John',\n",
       "   'left',\n",
       "   'the',\n",
       "   'kitchen',\n",
       "   '.',\n",
       "   'Sandra',\n",
       "   'dropped',\n",
       "   'the',\n",
       "   'football',\n",
       "   'in',\n",
       "   'the',\n",
       "   'garden',\n",
       "   '.'],\n",
       "  ['Is', 'the', 'football', 'in', 'the', 'garden', '?'],\n",
       "  'yes')]"
      ]
     },
     "execution_count": 105,
     "metadata": {},
     "output_type": "execute_result"
    }
   ],
   "source": [
    "mydata"
   ]
  },
  {
   "cell_type": "code",
   "execution_count": 106,
   "metadata": {},
   "outputs": [],
   "source": [
    "my_story, my_ques, my_ans = vectorize_stories(mydata)"
   ]
  },
  {
   "cell_type": "code",
   "execution_count": 107,
   "metadata": {},
   "outputs": [
    {
     "data": {
      "text/plain": [
       "array([[30, 20,  3, 30, 12, 32]])"
      ]
     },
     "execution_count": 107,
     "metadata": {},
     "output_type": "execute_result"
    }
   ],
   "source": [
    "my_ques"
   ]
  },
  {
   "cell_type": "code",
   "execution_count": 108,
   "metadata": {},
   "outputs": [
    {
     "data": {
      "text/plain": [
       "array([[0., 0., 0., 0., 0., 0., 0., 0., 0., 0., 0., 0., 0., 0., 0., 0.,\n",
       "        0., 0., 0., 0., 0., 0., 0., 0., 0., 0., 0., 0., 0., 1., 0., 0.,\n",
       "        0., 0., 0., 0., 0., 0.]])"
      ]
     },
     "execution_count": 108,
     "metadata": {},
     "output_type": "execute_result"
    }
   ],
   "source": [
    "my_ans"
   ]
  },
  {
   "cell_type": "code",
   "execution_count": 110,
   "metadata": {},
   "outputs": [],
   "source": [
    "pred_results = model.predict(([my_story,my_ques]))\n"
   ]
  },
  {
   "cell_type": "code",
   "execution_count": 113,
   "metadata": {},
   "outputs": [],
   "source": [
    "val_max = np.argmax(pred_results[0])"
   ]
  },
  {
   "cell_type": "code",
   "execution_count": 114,
   "metadata": {},
   "outputs": [],
   "source": [
    "for key,val in tokenizer.word_index.items():\n",
    "    if val == val_max:\n",
    "        k = key\n"
   ]
  },
  {
   "cell_type": "code",
   "execution_count": 115,
   "metadata": {},
   "outputs": [
    {
     "data": {
      "text/plain": [
       "'went'"
      ]
     },
     "execution_count": 115,
     "metadata": {},
     "output_type": "execute_result"
    }
   ],
   "source": [
    "k"
   ]
  },
  {
   "cell_type": "code",
   "execution_count": 116,
   "metadata": {},
   "outputs": [
    {
     "data": {
      "text/plain": [
       "0.9468018"
      ]
     },
     "execution_count": 116,
     "metadata": {},
     "output_type": "execute_result"
    }
   ],
   "source": [
    "pred_results[0][val_max]"
   ]
  },
  {
   "cell_type": "code",
   "execution_count": null,
   "metadata": {},
   "outputs": [],
   "source": []
  }
 ],
 "metadata": {
  "kernelspec": {
   "display_name": "Python 3",
   "language": "python",
   "name": "python3"
  },
  "language_info": {
   "codemirror_mode": {
    "name": "ipython",
    "version": 3
   },
   "file_extension": ".py",
   "mimetype": "text/x-python",
   "name": "python",
   "nbconvert_exporter": "python",
   "pygments_lexer": "ipython3",
   "version": "3.7.3"
  }
 },
 "nbformat": 4,
 "nbformat_minor": 2
}
